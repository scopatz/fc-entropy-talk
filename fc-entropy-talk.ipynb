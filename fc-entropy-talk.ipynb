{
 "metadata": {
  "name": "fc-entropy-talk"
 },
 "nbformat": 3,
 "nbformat_minor": 0,
 "worksheets": [
  {
   "cells": [
    {
     "cell_type": "markdown",
     "metadata": {
      "slideshow": {
       "slide_type": "slide"
      }
     },
     "source": [
      "<div style=\"text-align:center\">\n",
      "<h1>Not Your Physicists' Entropy</h1>\n",
      "<h2>Information Theory Applications to the Nuclear Fuel Cycle</h2>\n",
      "</div>\n",
      "<div style=\"text-align:center\">Dr. Anthony Michael Scopatz</div>\n",
      "<div style=\"text-align:center\">The University of Chicago, The Flash Center for Computational Science</div>\n",
      "<div style=\"text-align:center\">UW-Madison, February 26th, 2013</div>"
     ]
    },
    {
     "cell_type": "code",
     "collapsed": false,
     "input": [
      "from IPython.display import *"
     ],
     "language": "python",
     "metadata": {
      "slideshow": {
       "slide_type": "skip"
      }
     },
     "outputs": [],
     "prompt_number": 4
    },
    {
     "cell_type": "markdown",
     "metadata": {
      "slideshow": {
       "slide_type": "slide"
      }
     },
     "source": [
      "## What is the Nuclear Fuel Cycle?\n",
      "\n",
      "Well, we can ask wikipedia..."
     ]
    },
    {
     "cell_type": "markdown",
     "metadata": {
      "slideshow": {
       "slide_type": "-"
      }
     },
     "source": [
      "<div style=\"text-align:center;\"><iframe src=http://en.wikipedia.org/wiki/Nuclear_fuel_cycle?useformat=mobile width=500 height=325></iframe></div>"
     ]
    },
    {
     "cell_type": "markdown",
     "metadata": {
      "slideshow": {
       "slide_type": "fragment"
      }
     },
     "source": [
      "<div style=\"text-align:right\">...but that isn't very formal!</div>"
     ]
    },
    {
     "cell_type": "markdown",
     "metadata": {
      "slideshow": {
       "slide_type": "slide"
      }
     },
     "source": [
      "## How do we model the fuel cycle?\n",
      "\n",
      "* Most simulations are formulated on premade base-case scenarios:\n",
      "\n",
      "![alt text](figs/once-through.svg)"
     ]
    },
    {
     "cell_type": "markdown",
     "metadata": {
      "slideshow": {
       "slide_type": "fragment"
      }
     },
     "source": [
      "* These base cases are very well studied."
     ]
    },
    {
     "cell_type": "markdown",
     "metadata": {
      "slideshow": {
       "slide_type": "fragment"
      }
     },
     "source": [
      "* However, what is **not** well known is how these sample scenarios are affected by perturbations to their initial physical parameters."
     ]
    },
    {
     "cell_type": "markdown",
     "metadata": {
      "slideshow": {
       "slide_type": "fragment"
      }
     },
     "source": [
      "<div style=\"text-align:center;font-style:italic\">Do our intial parameter choices yield the \u2018best\u2019 solution?</div>"
     ]
    },
    {
     "cell_type": "markdown",
     "metadata": {
      "slideshow": {
       "slide_type": "slide"
      }
     },
     "source": [
      "## Problem Space\n",
      "\n",
      "<div style=\"text-align:center;\"><img src=\"figs/physics_vs_exec_time.svg\" width=\"75%\" /><h3>Figure 1: Physics Modeled versus Execution Time</h3></div>"
     ]
    },
    {
     "cell_type": "markdown",
     "metadata": {
      "slideshow": {
       "slide_type": "slide"
      }
     },
     "source": [
      "<script type=\"text/javascript\">\n",
      "\twindow.onload=function(){\n",
      "\tvar tfrow = document.getElementById('modapptable').rows.length;\n",
      "\tvar tbRow=[];\n",
      "\tfor (var i=1;i<tfrow;i++) {\n",
      "\t\ttbRow[i]=document.getElementById('modapptable').rows[i];\n",
      "\t\ttbRow[i].onmouseover = function(){\n",
      "\t\t  this.style.backgroundColor = '#f3f8aa';\n",
      "\t\t};\n",
      "\t\ttbRow[i].onmouseout = function() {\n",
      "\t\t  this.style.backgroundColor = '#ffffff';\n",
      "\t\t};\n",
      "\t}\n",
      "};\n",
      "</script>\n",
      "<style type=\"text/css\">\n",
      "table.tftable {color:#333333;width:80%;border-width: 1px;border-color: #a9a9a9;border-collapse: collapse;text-align:center; margin: auto;}\n",
      "table.tftable th {background-color:#b8b8b8;border-width: 1px;padding: 4px;border-style: solid;border-color: #a9a9a9;text-align:left;}\n",
      "table.tftable tr {background-color:#ffffff;text-align:center;}\n",
      "table.tftable td {border-width: 1px;padding: 4px;border-style: solid;border-color: #a9a9a9;text-align:center;}\n",
      "</style>\n",
      "\n",
      "## Modeling Approaches\n",
      "\n",
      "<div style=\"text-align:center;\"><img src=\"figs/basic_nfc_schema.svg\" /></div>\n",
      "\n",
      "<table id=\"modapptable\" class=\"tftable\" border=\"1\">\n",
      "<tr><th>Component</th><th>Recipes</th><th>Essential</th><th>Transport</th></tr>\n",
      "<tr><td style=\"text-align:left;\"><b>Front End:</b></td><td>Recipes</td><td>Physics Models</td><td>Physics Models</td></tr>\n",
      "<tr><td style=\"text-align:left;\"><b>Reactor:</b></td><td>Recipes</td><td>Rapid Burnup Code (<font style=\"color:red;\">Bright</font>)</td><td>Neutron Transport</td></tr>\n",
      "<tr><td style=\"text-align:left;\"><b>Repository:</b></td><td>Curve Fits</td><td>Rapid Code (<font style=\"color:red;\">Cyder</font>)</td><td>Neutron Transport</td></tr>\n",
      "</table>"
     ]
    },
    {
     "cell_type": "markdown",
     "metadata": {
      "slideshow": {
       "slide_type": "slide"
      }
     },
     "source": [
      "## Motivation\n",
      "  \n",
      "\n",
      "* Investigating the region of interest may provide a *transformative* amount of fuel cycle data."
     ]
    },
    {
     "cell_type": "markdown",
     "metadata": {
      "slideshow": {
       "slide_type": "fragment"
      }
     },
     "source": [
      "* <p>However, this requires an entirely new spectrum of tools.</p>\n",
      "\n",
      "<div style=\"text-align:center;\"><img src=\"figs/fc_stack.svg\" /><h3>Figure 2: Fuel Cycle Stack</h3></div>"
     ]
    },
    {
     "cell_type": "markdown",
     "metadata": {
      "slideshow": {
       "slide_type": "slide"
      }
     },
     "source": [
      "## Definition\n",
      "\n",
      "*Essential physics* models remain physically valid under perturbations in the locality of the region on which they are defined and do not compute extraneous parameters.\n",
      "\n",
      "This is a form of *model reduction*."
     ]
    },
    {
     "cell_type": "markdown",
     "metadata": {
      "slideshow": {
       "slide_type": "slide"
      }
     },
     "source": [
      "## What do Essential Physics Models Buy Us?\n",
      "\n",
      "They allow us to run physically meaningful (if not economically, etc.) fuel cycle simulations."
     ]
    },
    {
     "cell_type": "markdown",
     "metadata": {
      "slideshow": {
       "slide_type": "fragment"
      }
     },
     "source": [
      "And not just a few of them, but many."
     ]
    },
    {
     "cell_type": "markdown",
     "metadata": {
      "slideshow": {
       "slide_type": "fragment"
      }
     },
     "source": [
      "And when we have many similar things we use (fancy?!) statistics to analyze the ensemble."
     ]
    },
    {
     "cell_type": "markdown",
     "metadata": {
      "slideshow": {
       "slide_type": "slide"
      }
     },
     "source": [
      "<div style=\"text-align:center;\"><h1>Essential Physics Fuel Cycle Facility Models</h1></div>"
     ]
    },
    {
     "cell_type": "markdown",
     "metadata": {
      "slideshow": {
       "slide_type": "slide"
      }
     },
     "source": [
      "## One-Group Reactor Model (R1G)\n",
      "\n",
      "<div style=\"text-align:center;\"><img src=\"figs/reactor_model.svg\" width=\"65%\" /><h3>Figure 3: Reactor Model [1]</h3></div>"
     ]
    },
    {
     "cell_type": "markdown",
     "metadata": {
      "slideshow": {
       "slide_type": "subslide"
      }
     },
     "source": [
      "## R1G Notation\n",
      "\n",
      "<script type=\"text/javascript\">\n",
      "    window.onload=function(){\n",
      "    var tfrow = document.getElementById('tab41faec404a5fe25eccf48d4fe9239bfb').rows.length;\n",
      "    var tbRow=[];\n",
      "    for (var i=1;i<tfrow;i++) {\n",
      "        tbRow[i]=document.getElementById('tab41faec404a5fe25eccf48d4fe9239bfb').rows[i];\n",
      "        tbRow[i].onmouseover = function(){\n",
      "          this.style.backgroundColor = '#f3f8aa';\n",
      "        };\n",
      "        tbRow[i].onmouseout = function() {\n",
      "          this.style.backgroundColor = '#ffffff';\n",
      "        };\n",
      "    }\n",
      "};\n",
      "</script>\n",
      "\n",
      "<table id=\"tab41faec404a5fe25eccf48d4fe9239bfb\" class=\"tftable\" border=\"1\">\n",
      "<tr><th>Name</th><th>Symbol</th><th>Units</th></tr>\n",
      "<tr><td style=\"text-align:left;\">Fluence</td><td>$F = \\int_0^t \\phi dt^\\prime = \\phi \\int_0^t dt^\\prime = \\phi \\times t \\cdot \\frac{24 \\cdot 3600 \\cdot 10^3}{10^{24}}$</td><td>[n/kb]</td></tr>\n",
      "<tr><td style=\"text-align:left;\">Nuclide Subscript</td><td>$i$ (or $j$)</td><td>[1/kg$_i$]</td></tr>\n",
      "<tr><td style=\"text-align:left;\">Region Superscript</td><td>$Q$</td><td>[unitless]</td></tr>\n",
      "<tr><td style=\"text-align:left;\">Mass Weights</td><td>$m_i^Q = \\frac{N_i^Q}{N_{\\mbox{IHM}}} = \\frac{n_i^Q A_i}{A_{\\mbox{IHM}}} \\cdot \\frac{\\rho^Q\\cdot\\mbox{MW}^F}{\\rho^F\\cdot\\mbox{MW}^Q} \\frac{V^Q}{V^F}$</td><td>[kg$_i^Q$/kgIHM]</td></tr>\n",
      "<tr><td style=\"text-align:left;\">Burnup</td><td>$\\mbox{BU}(F) = \\sum_i m_i^F \\cdot \\mbox{BU}_i(F)$</td><td>[MWd/kgIHM]</td></tr>\n",
      "<tr><td style=\"text-align:left;\">Prod & Des Rates</td><td>$p_i(F), d_i(F)$</td><td>[n/s/flux/kg$_i$]</td></tr>\n",
      "<tr><td style=\"text-align:left;\">Transmutation Matrix</td><td>$T_{ij}(F)$</td><td>[kg$_j$/kg$_i$]</td></tr>\n",
      "<tr><td style=\"text-align:left;\">Multiplication Factor</td><td>$k(F) = \\frac{P(F)}{D(F)}$</td><td>[unitless]</td></tr>\n",
      "</table>"
     ]
    },
    {
     "cell_type": "markdown",
     "metadata": {
      "slideshow": {
       "slide_type": "slide"
      }
     },
     "source": [
      "## Math Trial\n",
      "\n",
      "$x - 10$"
     ]
    },
    {
     "cell_type": "markdown",
     "metadata": {
      "slideshow": {
       "slide_type": "slide"
      }
     },
     "source": [
      "## References\n",
      "\n",
      "[1]: Anthony M. Scopatz and Erich a. Schneider. \u201cA new method for rapid computation of transient fuel cycle material balances\u201d. In: Nuclear Engineering and Design 239.10 (Oct. 2009), pp. 2169\u20132184. ISSN: 00295493. DOI: 10.1016/j.nucengdes.2009.02.022. URL: http://linkinghub.elsevier.com/retrieve/pii/S0029549309000922"
     ]
    },
    {
     "cell_type": "code",
     "collapsed": false,
     "input": [
      "!make"
     ],
     "language": "python",
     "metadata": {
      "slideshow": {
       "slide_type": "skip"
      }
     },
     "outputs": [
      {
       "output_type": "stream",
       "stream": "stdout",
       "text": [
        "cp -r ~/nbconvert/reveal . \r\n",
        "rm -rf reveal/.git* \r\n",
        "cp classy.css reveal/css/theme/ \r\n",
        "python ~/nbconvert/nbconvert.py -f reveal fc-entropy-talk.ipynb \r\n"
       ]
      },
      {
       "output_type": "stream",
       "stream": "stdout",
       "text": [
        "sed -i 's:reveal/css/theme/simple.css:reveal/css/theme/classy.css:' fc-entropy-talk_slides.html \r\n"
       ]
      },
      {
       "output_type": "stream",
       "stream": "stdout",
       "text": [
        "sed -i 's:class=\"fragment\" class=\"text_cell_render:class=\"fragment text_cell_render:' fc-entropy-talk_slides.html \r\n",
        "sed -i 's/.rendered_html ul{list-style:disc;margin:1em 2em;}/.rendered_html ul{list-style:disc;margin:0em 2em;}/' fc-entropy-talk_slides.html \r\n"
       ]
      }
     ],
     "prompt_number": 7
    },
    {
     "cell_type": "code",
     "collapsed": false,
     "input": [],
     "language": "python",
     "metadata": {},
     "outputs": []
    }
   ],
   "metadata": {}
  }
 ]
}