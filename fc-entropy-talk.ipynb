{
 "metadata": {
  "name": "fc-entropy-talk"
 },
 "nbformat": 3,
 "nbformat_minor": 0,
 "worksheets": [
  {
   "cells": [
    {
     "cell_type": "markdown",
     "metadata": {
      "slideshow": {
       "slide_type": "slide"
      }
     },
     "source": [
      "<div style=\"text-align:center\">\n",
      "<h1>Not Your Physicists' Entropy</h1>\n",
      "<h2>Information Theory Applications to the Nuclear Fuel Cycle</h2>\n",
      "</div>\n",
      "<div style=\"text-align:center\">Dr. Anthony Michael Scopatz</div>\n",
      "<div style=\"text-align:center\">The University of Chicago, The Flash Center for Computational Science</div>\n",
      "<div style=\"text-align:center\">UW-Madison, February 26th, 2013</div>"
     ]
    },
    {
     "cell_type": "code",
     "collapsed": false,
     "input": [
      "import numpy as np\n",
      "import matplotlib\n",
      "matplotlib.rc('font', family='serif', size=16)\n",
      "import matplotlib.pyplot as plt\n",
      "from IPython.display import *\n",
      "\n",
      "#import bright\n",
      "#from bright.fast_reactor1g import FastReactor1G\n",
      "#fr = FastReactor1G(bright.bright_conf.BRIGHT_DATA + '/FR.h5')"
     ],
     "language": "python",
     "metadata": {
      "slideshow": {
       "slide_type": "skip"
      }
     },
     "outputs": [],
     "prompt_number": 33
    },
    {
     "cell_type": "markdown",
     "metadata": {
      "slideshow": {
       "slide_type": "slide"
      }
     },
     "source": [
      "## What is the Nuclear Fuel Cycle?\n",
      "\n",
      "Well, we can ask wikipedia..."
     ]
    },
    {
     "cell_type": "markdown",
     "metadata": {
      "slideshow": {
       "slide_type": "-"
      }
     },
     "source": [
      "<div style=\"text-align:center;\"><iframe src=http://en.wikipedia.org/wiki/Nuclear_fuel_cycle?useformat=mobile width=500 height=325></iframe></div>"
     ]
    },
    {
     "cell_type": "markdown",
     "metadata": {
      "slideshow": {
       "slide_type": "fragment"
      }
     },
     "source": [
      "<div style=\"text-align:right\">...but that isn't very formal!</div>"
     ]
    },
    {
     "cell_type": "markdown",
     "metadata": {
      "slideshow": {
       "slide_type": "slide"
      }
     },
     "source": [
      "## How do we model the fuel cycle?\n",
      "\n",
      "* Most simulations are formulated on premade base-case scenarios:\n",
      "\n",
      "![alt text](figs/once-through.svg)"
     ]
    },
    {
     "cell_type": "markdown",
     "metadata": {
      "slideshow": {
       "slide_type": "fragment"
      }
     },
     "source": [
      "* These base cases are very well studied."
     ]
    },
    {
     "cell_type": "markdown",
     "metadata": {
      "slideshow": {
       "slide_type": "fragment"
      }
     },
     "source": [
      "* However, what is **not** well known is how these sample scenarios are affected by perturbations to their initial physical parameters."
     ]
    },
    {
     "cell_type": "markdown",
     "metadata": {
      "slideshow": {
       "slide_type": "fragment"
      }
     },
     "source": [
      "<div style=\"text-align:center;font-style:italic\">Do our intial parameter choices yield the \u2018best\u2019 solution?</div>"
     ]
    },
    {
     "cell_type": "markdown",
     "metadata": {
      "slideshow": {
       "slide_type": "slide"
      }
     },
     "source": [
      "## Problem Space\n",
      "\n",
      "<div style=\"text-align:center;\"><img src=\"figs/physics_vs_exec_time.svg\" width=\"75%\" /><h3>Figure 1: Physics Modeled versus Execution Time</h3></div>"
     ]
    },
    {
     "cell_type": "markdown",
     "metadata": {
      "slideshow": {
       "slide_type": "slide"
      }
     },
     "source": [
      "<script type=\"text/javascript\">\n",
      "\twindow.onload=function(){\n",
      "\tvar tfrow = document.getElementById('modapptable').rows.length;\n",
      "\tvar tbRow=[];\n",
      "\tfor (var i=1;i<tfrow;i++) {\n",
      "\t\ttbRow[i]=document.getElementById('modapptable').rows[i];\n",
      "\t\ttbRow[i].onmouseover = function(){\n",
      "\t\t  this.style.backgroundColor = '#f3f8aa';\n",
      "\t\t};\n",
      "\t\ttbRow[i].onmouseout = function() {\n",
      "\t\t  this.style.backgroundColor = '#ffffff';\n",
      "\t\t};\n",
      "\t}\n",
      "};\n",
      "</script>\n",
      "<style type=\"text/css\">\n",
      "table.tftable {color:#333333;width:80%;border-width: 1px;border-color: #a9a9a9;border-collapse: collapse;text-align:center; margin: auto;}\n",
      "table.tftable th {background-color:#b8b8b8;border-width: 1px;padding: 4px;border-style: solid;border-color: #a9a9a9;text-align:left;}\n",
      "table.tftable tr {background-color:#ffffff;text-align:center;}\n",
      "table.tftable td {border-width: 1px;padding: 4px;border-style: solid;border-color: #a9a9a9;text-align:center;}\n",
      "</style>\n",
      "\n",
      "## Modeling Approaches\n",
      "\n",
      "<div style=\"text-align:center;\"><img src=\"figs/basic_nfc_schema.svg\" /></div>\n",
      "\n",
      "<table id=\"modapptable\" class=\"tftable\" border=\"1\">\n",
      "<tr><th>Component</th><th>Recipes</th><th>Essential</th><th>Transport</th></tr>\n",
      "<tr><td style=\"text-align:left;\"><b>Front End:</b></td><td>Recipes</td><td>Physics Models</td><td>Physics Models</td></tr>\n",
      "<tr><td style=\"text-align:left;\"><b>Reactor:</b></td><td>Recipes</td><td>Rapid Burnup Code (<font style=\"color:red;\">Bright</font>)</td><td>Neutron Transport</td></tr>\n",
      "<tr><td style=\"text-align:left;\"><b>Repository:</b></td><td>Curve Fits</td><td>Rapid Code (<font style=\"color:red;\">Cyder</font>)</td><td>Neutron Transport</td></tr>\n",
      "</table>"
     ]
    },
    {
     "cell_type": "markdown",
     "metadata": {
      "slideshow": {
       "slide_type": "slide"
      }
     },
     "source": [
      "## Motivation\n",
      "  \n",
      "\n",
      "* Investigating the region of interest may provide a *transformative* amount of fuel cycle data."
     ]
    },
    {
     "cell_type": "markdown",
     "metadata": {
      "slideshow": {
       "slide_type": "fragment"
      }
     },
     "source": [
      "* <p>However, this requires an entirely new spectrum of tools.</p>\n",
      "\n",
      "<div style=\"text-align:center;\"><img src=\"figs/fc_stack.svg\" /><h3>Figure 2: Fuel Cycle Stack</h3></div>"
     ]
    },
    {
     "cell_type": "markdown",
     "metadata": {
      "slideshow": {
       "slide_type": "slide"
      }
     },
     "source": [
      "## Definition\n",
      "\n",
      "*Essential physics* models remain physically valid under perturbations in the locality of the region on which they are defined and do not compute extraneous parameters.\n",
      "\n",
      "This is a form of *model reduction*."
     ]
    },
    {
     "cell_type": "markdown",
     "metadata": {
      "slideshow": {
       "slide_type": "slide"
      }
     },
     "source": [
      "## What do Essential Physics Models Buy Us?\n",
      "\n",
      "They allow us to run physically meaningful (if not economically, etc.) fuel cycle simulations."
     ]
    },
    {
     "cell_type": "markdown",
     "metadata": {
      "slideshow": {
       "slide_type": "fragment"
      }
     },
     "source": [
      "And not just a few of them, but many."
     ]
    },
    {
     "cell_type": "markdown",
     "metadata": {
      "slideshow": {
       "slide_type": "fragment"
      }
     },
     "source": [
      "And when we have many similar things we use (fancy?!) statistics to analyze the ensemble."
     ]
    },
    {
     "cell_type": "markdown",
     "metadata": {
      "slideshow": {
       "slide_type": "slide"
      }
     },
     "source": [
      "<div style=\"text-align:center;\"><h1>Essential Physics Fuel Cycle Facility Models</h1></div>"
     ]
    },
    {
     "cell_type": "markdown",
     "metadata": {
      "slideshow": {
       "slide_type": "slide"
      }
     },
     "source": [
      "## One-Group Reactor Model (R1G)\n",
      "\n",
      "<div style=\"text-align:center;\"><img src=\"figs/reactor_model.svg\" width=\"65%\" /><h3>Figure 3: Reactor Model [1]</h3></div>"
     ]
    },
    {
     "cell_type": "markdown",
     "metadata": {
      "slideshow": {
       "slide_type": "subslide"
      }
     },
     "source": [
      "## R1G Notation\n",
      "\n",
      "<script type=\"text/javascript\">\n",
      "    window.onload=function(){\n",
      "    var tfrow = document.getElementById('tab41faec404a5fe25eccf48d4fe9239bfb').rows.length;\n",
      "    var tbRow=[];\n",
      "    for (var i=1;i<tfrow;i++) {\n",
      "        tbRow[i]=document.getElementById('tab41faec404a5fe25eccf48d4fe9239bfb').rows[i];\n",
      "        tbRow[i].onmouseover = function(){\n",
      "          this.style.backgroundColor = '#f3f8aa';\n",
      "        };\n",
      "        tbRow[i].onmouseout = function() {\n",
      "          this.style.backgroundColor = '#ffffff';\n",
      "        };\n",
      "    }\n",
      "};\n",
      "</script>\n",
      "\n",
      "<table id=\"tab41faec404a5fe25eccf48d4fe9239bfb\" class=\"tftable\" border=\"1\">\n",
      "<tr><th>Name</th><th>Symbol</th><th>Units</th></tr>\n",
      "<tr><td style=\"text-align:left;\">Fluence</td><td>$F = \\int_0^t \\phi dt^\\prime = \\phi \\int_0^t dt^\\prime = \\phi \\times t \\cdot \\frac{24 \\cdot 3600 \\cdot 10^3}{10^{24}}$</td><td>[n/kb]</td></tr>\n",
      "<tr><td style=\"text-align:left;\">Nuclide Subscript</td><td>$i$ (or $j$)</td><td>[1/kg$_i$]</td></tr>\n",
      "<tr><td style=\"text-align:left;\">Region Superscript</td><td>$Q$</td><td>[unitless]</td></tr>\n",
      "<tr><td style=\"text-align:left;\">Mass Weights</td><td>$m_i^Q = \\frac{N_i^Q}{N_{\\mbox{IHM}}} = \\frac{n_i^Q A_i}{A_{\\mbox{IHM}}} \\cdot \\frac{\\rho^Q\\cdot\\mbox{MW}^F}{\\rho^F\\cdot\\mbox{MW}^Q} \\frac{V^Q}{V^F}$</td><td>[kg$_i^Q$/kgIHM]</td></tr>\n",
      "<tr><td style=\"text-align:left;\">Burnup</td><td>$\\mbox{BU}(F) = \\sum_i m_i^F \\cdot \\mbox{BU}_i(F)$</td><td>[MWd/kgIHM]</td></tr>\n",
      "<tr><td style=\"text-align:left;\">Prod & Des Rates</td><td>$p_i(F), d_i(F)$</td><td>[n/s/flux/kg$_i$]</td></tr>\n",
      "<tr><td style=\"text-align:left;\">Transmutation Matrix</td><td>$T_{ij}(F)$</td><td>[kg$_j$/kg$_i$]</td></tr>\n",
      "<tr><td style=\"text-align:left;\">Multiplication Factor</td><td>$k(F) = \\frac{P(F)}{D(F)}$</td><td>[unitless]</td></tr>\n",
      "</table>"
     ]
    },
    {
     "cell_type": "markdown",
     "metadata": {
      "slideshow": {
       "slide_type": "subslide"
      }
     },
     "source": [
      "## R1G Library\n",
      "\n",
      "Starting with ORIGEN generated fluence-dependent, nuclide specific data, we know:\n",
      "\n",
      "<style type=\"text/css\">\n",
      "table.boarderlesscenteredtable {color:#333333;width:80%;border: 0px;text-align:center; margin: auto;}\n",
      "table.boarderlesscenteredtable th {border-width: 0px;padding: 4px;border-style: solid;border-color: #a9a9a9;text-align:left;}\n",
      "table.boarderlesscenteredtable tr {text-align:center; border: 0px;}\n",
      "table.boarderlesscenteredtable td {border: 0px;padding: 4px;text-align:center;}\n",
      "</style>\n",
      "\n",
      "<table class=\"boarderlesscenteredtable\" border=\"0\">\n",
      "<tr><td><img src=\"figs/pu239_fr_prod_des.svg\"/></td><td><img src=\"figs/fr_bu.svg\"/></td><td><img src=\"figs/pu239_fr_transmute.svg\"/></td></tr>\n",
      "<tr><td><b>(a) neutron production & destruction rates,</b></td><td><b>(b) burnups,</b></td><td><b>(c) transmutation matrices.</b></td></tr>\n",
      "</table>\n",
      "\n",
      "<div style=\"text-align:center;\"><h3>Figure 4: Example Reactor Data Library for FR $^{239}$Pu</h3></div>"
     ]
    },
    {
     "cell_type": "markdown",
     "metadata": {
      "slideshow": {
       "slide_type": "subslide"
      }
     },
     "source": [
      "## R1G Library Collapse\n",
      "\n",
      "* Collapsing a general library down is the central calculation of the one-group reactor model."
     ]
    },
    {
     "cell_type": "markdown",
     "metadata": {
      "slideshow": {
       "slide_type": "fragment"
      }
     },
     "source": [
      "* Using a two-region fuel pin cell model, denote the mass weight of each initial isotope $i$ in the fuel as $m^F_i$ and the in the coolant as $m^C_i$."
     ]
    },
    {
     "cell_type": "markdown",
     "metadata": {
      "slideshow": {
       "slide_type": "fragment"
      }
     },
     "source": [
      "* Then, a mass-weighted linear combination of all of the library parameters computes the full-core values."
     ]
    },
    {
     "cell_type": "markdown",
     "metadata": {
      "slideshow": {
       "slide_type": "fragment"
      }
     },
     "source": [
      "* For example,\n",
      "\n",
      "<div style=\"text-align:center;\">$P(F) = P_{NL} \\cdot p^F(F) = P_{NL} \\sum^I_i m^F_i \\cdot p_i(F)$</div>"
     ]
    },
    {
     "cell_type": "code",
     "collapsed": false,
     "input": [
      "t = np.array(\"31.0    \t62.0    \t93.0    \t124.0    \t155.0    \t186.0    \t217.0    \t248.0    \t279.0    \t310.0    \t341.0    \t372.0    \t403.0    \t434.0    \t465.0    \t496.0    \t527.0    \t558.0    \t589.0    \t620.0    \t651.0    \t682.0    \t713.0    \t744.0    \t775.0    \t806.0    \t837.0    \t868.0    \t899.0    \t930.0    \t961.0    \t992.0    \t1023.0    \t1054.0    \t1085.0    \t1116.0    \t1147.0    \t1178.0    \t1209.0    \t1240.0    \t1271.0    \t1302.0    \t1333.0    \t1364.0    \t1395.0    \t1426.0    \t1457.0    \t1488.0    \t1519.0    \t1550.0    \t1581.0    \t1612.0    \t1643.0    \t1674.0    \t1705.0    \t1736.0    \t1767.0    \t1798.0    \t1829.0    \t1860.0    \t1891.0    \t1922.0    \t1953.0    \t1984.0    \t2015.0    \t2046.0    \t2077.0    \t2108.0    \t2139.0    \t2170.0    \t2201.0    \t2232.0    \t2263.0    \t2294.0    \t2325.0    \t2356.0    \t2387.0    \t2418.0    \t2449.0    \t2480.0    \t2511.0    \t2542.0    \t2573.0    \t2604.0    \t2635.0    \t2666.0    \t2697.0    \t2728.0    \t2759.0    \t2790.0    \t2821.0    \t2852.0    \t2883.0    \t2914.0    \t2945.0    \t2976.0    \t3007.0    \t3038.0    \t3069.0    \t3100.0    \t3131.0    \t3162.0    \t3193.0    \t3224.0    \t3255.0    \t3286.0    \t3317.0    \t3348.0    \t3379.0    \t3410.0    \t3441.0    \t3472.0    \t3503.0    \t3534.0    \t3565.0    \t3596.0    \t3627.0    \t3658.0    \t3689.0    \t3720.0    \t3751.0    \t3782.0    \t3813.0    \t3844.0    \t3875.0    \t3906.0    \t3937.0    \t3968.0    \t3999.0    \t4030.0    \t4061.0    \t4092.0    \t4123.0    \t4154.0    \t4185.0    \t4216.0    \t4247.0    \t4278.0    \t4309.0    \t4340.0    \t4371.0    \t4402.0    \t4433.0\".split(), float)\n",
      "pu239burn = np.array(\"8.72e+000\t1.74e+001\t2.59e+001\t3.44e+001\t4.27e+001\t5.10e+001\t5.92e+001\t6.73e+001\t7.54e+001\t8.33e+001\t9.12e+001\t9.90e+001\t1.07e+002\t1.14e+002\t1.22e+002\t1.29e+002\t1.37e+002\t1.44e+002\t1.51e+002\t1.59e+002\t1.66e+002\t1.73e+002\t1.80e+002\t1.87e+002\t1.94e+002\t2.00e+002\t2.07e+002\t2.14e+002\t2.20e+002\t2.27e+002\t2.33e+002\t2.40e+002\t2.46e+002\t2.52e+002\t2.59e+002\t2.65e+002\t2.71e+002\t2.77e+002\t2.83e+002\t2.89e+002\t2.95e+002\t3.00e+002\t3.06e+002\t3.12e+002\t3.17e+002\t3.23e+002\t3.29e+002\t3.34e+002\t3.39e+002\t3.45e+002\t3.50e+002\t3.55e+002\t3.61e+002\t3.66e+002\t3.71e+002\t3.76e+002\t3.81e+002\t3.86e+002\t3.91e+002\t3.96e+002\t4.00e+002\t4.05e+002\t4.10e+002\t4.15e+002\t4.19e+002\t4.24e+002\t4.28e+002\t4.33e+002\t4.37e+002\t4.42e+002\t4.46e+002\t4.50e+002\t4.55e+002\t4.59e+002\t4.63e+002\t4.67e+002\t4.71e+002\t4.76e+002\t4.80e+002\t4.84e+002\t4.88e+002\t4.92e+002\t4.95e+002\t4.99e+002\t5.03e+002\t5.07e+002\t5.11e+002\t5.14e+002\t5.18e+002\t5.22e+002\t5.25e+002\t5.29e+002\t5.32e+002\t5.36e+002\t5.39e+002\t5.43e+002\t5.46e+002\t5.50e+002\t5.53e+002\t5.56e+002\t5.60e+002\t5.63e+002\t5.66e+002\t5.69e+002\t5.73e+002\t5.76e+002\t5.79e+002\t5.82e+002\t5.85e+002\t5.88e+002\t5.91e+002\t5.94e+002\t5.97e+002\t6.00e+002\t6.03e+002\t6.06e+002\t6.08e+002\t6.11e+002\t6.14e+002\t6.17e+002\t6.19e+002\t6.22e+002\t6.25e+002\t6.28e+002\t6.30e+002\t6.33e+002\t6.35e+002\t6.38e+002\t6.40e+002\t6.43e+002\t6.46e+002\t6.48e+002\t6.50e+002\t6.53e+002\t6.55e+002\t6.58e+002\t6.60e+002\t6.62e+002\t6.65e+002\t6.67e+002\t6.69e+002\t6.72e+002\t6.74e+002\".split(), float)\n",
      "pu239prod = np.array(\"1.22E+01\t1.21E+01\t1.20E+01\t1.18E+01\t1.17E+01\t1.16E+01\t1.15E+01\t1.14E+01\t1.13E+01\t1.11E+01\t1.10E+01\t1.09E+01\t1.08E+01\t1.07E+01\t1.06E+01\t1.05E+01\t1.04E+01\t1.03E+01\t1.02E+01\t1.01E+01\t9.98E+00\t9.88E+00\t9.79E+00\t9.69E+00\t9.59E+00\t9.50E+00\t9.41E+00\t9.31E+00\t9.22E+00\t9.13E+00\t9.04E+00\t8.95E+00\t8.86E+00\t8.78E+00\t8.69E+00\t8.61E+00\t8.52E+00\t8.44E+00\t8.36E+00\t8.28E+00\t8.19E+00\t8.11E+00\t8.04E+00\t7.96E+00\t7.88E+00\t7.80E+00\t7.73E+00\t7.65E+00\t7.58E+00\t7.51E+00\t7.43E+00\t7.36E+00\t7.29E+00\t7.22E+00\t7.15E+00\t7.08E+00\t7.01E+00\t6.94E+00\t6.88E+00\t6.81E+00\t6.75E+00\t6.68E+00\t6.62E+00\t6.55E+00\t6.49E+00\t6.43E+00\t6.37E+00\t6.31E+00\t6.25E+00\t6.19E+00\t6.13E+00\t6.07E+00\t6.01E+00\t5.96E+00\t5.90E+00\t5.84E+00\t5.79E+00\t5.73E+00\t5.68E+00\t5.62E+00\t5.57E+00\t5.52E+00\t5.47E+00\t5.42E+00\t5.36E+00\t5.31E+00\t5.26E+00\t5.21E+00\t5.17E+00\t5.12E+00\t5.07E+00\t5.02E+00\t4.97E+00\t4.93E+00\t4.88E+00\t4.84E+00\t4.79E+00\t4.75E+00\t4.70E+00\t4.66E+00\t4.62E+00\t4.57E+00\t4.53E+00\t4.49E+00\t4.45E+00\t4.41E+00\t4.37E+00\t4.33E+00\t4.29E+00\t4.25E+00\t4.21E+00\t4.17E+00\t4.13E+00\t4.09E+00\t4.05E+00\t4.02E+00\t3.98E+00\t3.94E+00\t3.91E+00\t3.87E+00\t3.84E+00\t3.80E+00\t3.77E+00\t3.73E+00\t3.70E+00\t3.67E+00\t3.63E+00\t3.60E+00\t3.57E+00\t3.54E+00\t3.50E+00\t3.47E+00\t3.44E+00\t3.41E+00\t3.38E+00\t3.35E+00\t3.32E+00\t3.29E+00\t3.26E+00\t3.23E+00\t3.20E+00\t3.17E+00\t3.15E+00\".split(), float)\n",
      "pu239dest = np.array(\"4.91E+00\t4.87E+00\t4.84E+00\t4.80E+00\t4.76E+00\t4.72E+00\t4.68E+00\t4.65E+00\t4.61E+00\t4.57E+00\t4.54E+00\t4.50E+00\t4.47E+00\t4.43E+00\t4.40E+00\t4.37E+00\t4.33E+00\t4.30E+00\t4.27E+00\t4.23E+00\t4.20E+00\t4.17E+00\t4.14E+00\t4.11E+00\t4.07E+00\t4.04E+00\t4.01E+00\t3.98E+00\t3.95E+00\t3.92E+00\t3.89E+00\t3.87E+00\t3.84E+00\t3.81E+00\t3.78E+00\t3.75E+00\t3.72E+00\t3.70E+00\t3.67E+00\t3.64E+00\t3.62E+00\t3.59E+00\t3.56E+00\t3.54E+00\t3.51E+00\t3.49E+00\t3.46E+00\t3.44E+00\t3.41E+00\t3.39E+00\t3.37E+00\t3.34E+00\t3.32E+00\t3.30E+00\t3.27E+00\t3.25E+00\t3.23E+00\t3.21E+00\t3.18E+00\t3.16E+00\t3.14E+00\t3.12E+00\t3.10E+00\t3.08E+00\t3.05E+00\t3.03E+00\t3.01E+00\t2.99E+00\t2.97E+00\t2.95E+00\t2.93E+00\t2.91E+00\t2.90E+00\t2.88E+00\t2.86E+00\t2.84E+00\t2.82E+00\t2.80E+00\t2.78E+00\t2.77E+00\t2.75E+00\t2.73E+00\t2.71E+00\t2.70E+00\t2.68E+00\t2.66E+00\t2.65E+00\t2.63E+00\t2.61E+00\t2.60E+00\t2.58E+00\t2.56E+00\t2.55E+00\t2.53E+00\t2.52E+00\t2.50E+00\t2.49E+00\t2.47E+00\t2.46E+00\t2.44E+00\t2.43E+00\t2.41E+00\t2.40E+00\t2.38E+00\t2.37E+00\t2.36E+00\t2.34E+00\t2.33E+00\t2.32E+00\t2.30E+00\t2.29E+00\t2.28E+00\t2.26E+00\t2.25E+00\t2.24E+00\t2.23E+00\t2.21E+00\t2.20E+00\t2.19E+00\t2.18E+00\t2.16E+00\t2.15E+00\t2.14E+00\t2.13E+00\t2.12E+00\t2.11E+00\t2.09E+00\t2.08E+00\t2.07E+00\t2.06E+00\t2.05E+00\t2.04E+00\t2.03E+00\t2.02E+00\t2.01E+00\t2.00E+00\t1.99E+00\t1.98E+00\t1.97E+00\t1.96E+00\t1.95E+00\t1.94E+00\t1.93E+00\".split(), float)\n",
      "u238burn = np.array(\"2.59e-001\t5.26e-001\t8.03e-001\t1.09e+000\t1.38e+000\t1.69e+000\t2.00e+000\t2.33e+000\t2.66e+000\t3.00e+000\t3.35e+000\t3.70e+000\t4.07e+000\t4.44e+000\t4.82e+000\t5.21e+000\t5.61e+000\t6.02e+000\t6.43e+000\t6.85e+000\t7.28e+000\t7.72e+000\t8.16e+000\t8.62e+000\t9.08e+000\t9.54e+000\t1.00e+001\t1.05e+001\t1.10e+001\t1.15e+001\t1.20e+001\t1.25e+001\t1.30e+001\t1.35e+001\t1.40e+001\t1.46e+001\t1.51e+001\t1.57e+001\t1.62e+001\t1.68e+001\t1.73e+001\t1.79e+001\t1.85e+001\t1.91e+001\t1.96e+001\t2.02e+001\t2.08e+001\t2.14e+001\t2.21e+001\t2.27e+001\t2.33e+001\t2.39e+001\t2.45e+001\t2.52e+001\t2.58e+001\t2.65e+001\t2.71e+001\t2.78e+001\t2.84e+001\t2.91e+001\t2.98e+001\t3.04e+001\t3.11e+001\t3.18e+001\t3.25e+001\t3.32e+001\t3.39e+001\t3.46e+001\t3.53e+001\t3.60e+001\t3.67e+001\t3.74e+001\t3.81e+001\t3.88e+001\t3.96e+001\t4.03e+001\t4.10e+001\t4.18e+001\t4.25e+001\t4.33e+001\t4.40e+001\t4.48e+001\t4.55e+001\t4.63e+001\t4.70e+001\t4.78e+001\t4.86e+001\t4.94e+001\t5.01e+001\t5.09e+001\t5.17e+001\t5.25e+001\t5.33e+001\t5.41e+001\t5.48e+001\t5.56e+001\t5.64e+001\t5.72e+001\t5.81e+001\t5.89e+001\t5.97e+001\t6.05e+001\t6.13e+001\t6.21e+001\t6.29e+001\t6.38e+001\t6.46e+001\t6.54e+001\t6.62e+001\t6.71e+001\t6.79e+001\t6.88e+001\t6.96e+001\t7.04e+001\t7.13e+001\t7.21e+001\t7.30e+001\t7.38e+001\t7.47e+001\t7.55e+001\t7.64e+001\t7.73e+001\t7.81e+001\t7.90e+001\t7.98e+001\t8.07e+001\t8.16e+001\t8.24e+001\t8.33e+001\t8.42e+001\t8.51e+001\t8.59e+001\t8.68e+001\t8.77e+001\t8.86e+001\t8.95e+001\t9.03e+001\t9.12e+001\t9.21e+001\t9.30e+001\t9.39e+001\t9.48e+001\t9.57e+001\".split(), float)\n",
      "u238prod = np.array(\"3.76E-01\t3.89E-01\t4.02E-01\t4.15E-01\t4.28E-01\t4.41E-01\t4.53E-01\t4.66E-01\t4.78E-01\t4.90E-01\t5.02E-01\t5.14E-01\t5.26E-01\t5.38E-01\t5.49E-01\t5.60E-01\t5.72E-01\t5.83E-01\t5.94E-01\t6.04E-01\t6.15E-01\t6.26E-01\t6.36E-01\t6.46E-01\t6.56E-01\t6.66E-01\t6.76E-01\t6.86E-01\t6.96E-01\t7.05E-01\t7.15E-01\t7.24E-01\t7.33E-01\t7.42E-01\t7.51E-01\t7.60E-01\t7.69E-01\t7.78E-01\t7.86E-01\t7.95E-01\t8.03E-01\t8.11E-01\t8.19E-01\t8.27E-01\t8.35E-01\t8.43E-01\t8.51E-01\t8.58E-01\t8.66E-01\t8.73E-01\t8.81E-01\t8.88E-01\t8.95E-01\t9.02E-01\t9.09E-01\t9.16E-01\t9.23E-01\t9.30E-01\t9.36E-01\t9.43E-01\t9.49E-01\t9.56E-01\t9.62E-01\t9.68E-01\t9.74E-01\t9.80E-01\t9.86E-01\t9.92E-01\t9.98E-01\t1.00E+00\t1.01E+00\t1.02E+00\t1.02E+00\t1.03E+00\t1.03E+00\t1.04E+00\t1.04E+00\t1.05E+00\t1.05E+00\t1.06E+00\t1.06E+00\t1.07E+00\t1.07E+00\t1.08E+00\t1.08E+00\t1.09E+00\t1.09E+00\t1.10E+00\t1.10E+00\t1.10E+00\t1.11E+00\t1.11E+00\t1.12E+00\t1.12E+00\t1.12E+00\t1.13E+00\t1.13E+00\t1.14E+00\t1.14E+00\t1.14E+00\t1.15E+00\t1.15E+00\t1.16E+00\t1.16E+00\t1.16E+00\t1.17E+00\t1.17E+00\t1.17E+00\t1.18E+00\t1.18E+00\t1.18E+00\t1.19E+00\t1.19E+00\t1.19E+00\t1.19E+00\t1.20E+00\t1.20E+00\t1.20E+00\t1.21E+00\t1.21E+00\t1.21E+00\t1.21E+00\t1.22E+00\t1.22E+00\t1.22E+00\t1.23E+00\t1.23E+00\t1.23E+00\t1.23E+00\t1.23E+00\t1.24E+00\t1.24E+00\t1.24E+00\t1.24E+00\t1.25E+00\t1.25E+00\t1.25E+00\t1.25E+00\t1.25E+00\t1.26E+00\t1.26E+00\t1.26E+00\t1.26E+00\".split(), float)\n",
      "u238dest = np.array(\"6.75E-01\t6.80E-01\t6.85E-01\t6.90E-01\t6.95E-01\t7.00E-01\t7.04E-01\t7.09E-01\t7.13E-01\t7.18E-01\t7.23E-01\t7.27E-01\t7.31E-01\t7.36E-01\t7.40E-01\t7.44E-01\t7.49E-01\t7.53E-01\t7.57E-01\t7.61E-01\t7.65E-01\t7.69E-01\t7.73E-01\t7.77E-01\t7.81E-01\t7.85E-01\t7.88E-01\t7.92E-01\t7.96E-01\t8.00E-01\t8.03E-01\t8.07E-01\t8.10E-01\t8.14E-01\t8.17E-01\t8.21E-01\t8.24E-01\t8.28E-01\t8.31E-01\t8.34E-01\t8.37E-01\t8.41E-01\t8.44E-01\t8.47E-01\t8.50E-01\t8.53E-01\t8.56E-01\t8.59E-01\t8.62E-01\t8.65E-01\t8.68E-01\t8.71E-01\t8.74E-01\t8.77E-01\t8.79E-01\t8.82E-01\t8.85E-01\t8.88E-01\t8.90E-01\t8.93E-01\t8.96E-01\t8.98E-01\t9.01E-01\t9.03E-01\t9.06E-01\t9.08E-01\t9.11E-01\t9.13E-01\t9.16E-01\t9.18E-01\t9.20E-01\t9.23E-01\t9.25E-01\t9.27E-01\t9.29E-01\t9.32E-01\t9.34E-01\t9.36E-01\t9.38E-01\t9.40E-01\t9.42E-01\t9.44E-01\t9.46E-01\t9.48E-01\t9.50E-01\t9.52E-01\t9.54E-01\t9.56E-01\t9.58E-01\t9.60E-01\t9.62E-01\t9.64E-01\t9.66E-01\t9.67E-01\t9.69E-01\t9.71E-01\t9.73E-01\t9.74E-01\t9.76E-01\t9.78E-01\t9.79E-01\t9.81E-01\t9.83E-01\t9.84E-01\t9.86E-01\t9.87E-01\t9.89E-01\t9.90E-01\t9.92E-01\t9.93E-01\t9.95E-01\t9.96E-01\t9.98E-01\t9.99E-01\t1.00E+00\t1.00E+00\t1.00E+00\t1.00E+00\t1.01E+00\t1.01E+00\t1.01E+00\t1.01E+00\t1.01E+00\t1.01E+00\t1.01E+00\t1.02E+00\t1.02E+00\t1.02E+00\t1.02E+00\t1.02E+00\t1.02E+00\t1.02E+00\t1.02E+00\t1.02E+00\t1.03E+00\t1.03E+00\t1.03E+00\t1.03E+00\t1.03E+00\t1.03E+00\t1.03E+00\t1.03E+00\t1.03E+00\".split(), float)\n",
      "\n",
      "xpu = 0.2\n",
      "xu = 1.0 - xpu\n",
      "f = t * (2e15 * 24 * 3600 * 1e3 / 1e24)\n",
      "coreburn = pu239burn * xpu + u238burn * xu\n",
      "corek = 0.65 * (pu239prod * xpu + u238prod * xu) / (pu239dest * xpu + u238dest * xu)\n",
      "inds = [(coreburn < bu).sum() for bu in (60, 120, 180)]\n",
      "flabels = ['F1', 'F2', 'Fd']\n",
      "klabels = ['k1', 'k2', 'k3']\n",
      "bulabels = ['$\\\\frac{1}{3}$ BUd', '$\\\\frac{2}{3}$ BUd', 'BUd']\n",
      "\n",
      "plt.figure()\n",
      "plt.plot(f, coreburn, 'bo-')\n",
      "for n, i in enumerate(inds):\n",
      "    fi = f[i]\n",
      "    bu = coreburn[i]\n",
      "    plt.plot([0.0, fi], [bu, bu], 'ro-', lw=3)\n",
      "    plt.plot([fi, fi], [0.0, bu], 'go-', lw=3)\n",
      "    plt.text(10., bu + 10, bulabels[n])\n",
      "    plt.text(fi + 10, 10, flabels[n])\n",
      "plt.xlabel('Fluence [n/kb]')\n",
      "plt.ylabel('Burnup [MWd/kg]')\n",
      "plt.savefig('figs/fr_bu_f.svg', transparent=True, bbox_inches='tight')\n",
      "\n",
      "plt.figure()\n",
      "plt.plot(f, corek, 'bo-')\n",
      "ax = plt.axis()\n",
      "for n, i in enumerate(inds):\n",
      "    fi = f[i]\n",
      "    ki = corek[i]\n",
      "    plt.plot([0.0, fi], [ki, ki], 'ro-', lw=3)\n",
      "    plt.plot([fi, fi], [ax[2], ki], 'go-', lw=3)\n",
      "    plt.text(10, ki + 0.01, klabels[n])\n",
      "    plt.text(fi + 10, ax[2] + 0.01, flabels[n])\n",
      "plt.xlabel('Fluence [n/kb]')\n",
      "plt.ylabel('Multiplication Factor')\n",
      "plt.savefig('figs/fr_k_f.svg', transparent=True, bbox_inches='tight')"
     ],
     "language": "python",
     "metadata": {
      "slideshow": {
       "slide_type": "skip"
      }
     },
     "outputs": [
      {
       "output_type": "display_data",
       "png": "[encoded data removed]",
       "text": [
        "<matplotlib.figure.Figure at 0x3548590>"
       ]
      },
      {
       "output_type": "display_data",
       "png": "[encoded data removed]",
       "text": [
        "<matplotlib.figure.Figure at 0x381e050>"
       ]
      }
     ],
     "prompt_number": 34
    },
    {
     "cell_type": "markdown",
     "metadata": {
      "slideshow": {
       "slide_type": "subslide"
      }
     },
     "source": [
      "## R1G\n",
      "\n",
      "<table class=\"boarderlesscenteredtable\" border=\"0\">\n",
      "<tr><td><img src=\"figs/fr_bu_f.svg\"/></td><td><img src=\"figs/fr_k_f.svg\"/></td></tr>\n",
      "<tr><td><b>(a) burnup</b></td><td><b>(b) multiplication factor</b></td></tr>\n",
      "</table>\n",
      "\n",
      "<div style=\"text-align:center;\"><h3>Figure 5: Linearly Combined Fast Reactor Data Library</h3></div>"
     ]
    },
    {
     "cell_type": "markdown",
     "metadata": {
      "slideshow": {
       "slide_type": "subslide"
      }
     },
     "source": [
      "## R1G\n",
      "\n",
      "<div style=\"text-align:center;\"><img src=\"figs/fr_transmute.svg\" width=\"60%\" /><h3>Figure 6: Fast Reactor Discharge Composition</h3></div>\n",
      "    \n",
      "* The transmutation matrices may be similarly weighted by initial composition.\n",
      "* From the criticality calculation above we also know the discharge fluence, Fd [n/kb], which will then yield the used fuel vector."
     ]
    },
    {
     "cell_type": "markdown",
     "metadata": {
      "slideshow": {
       "slide_type": "subslide"
      }
     },
     "source": [
      "## R1G Benchmark\n",
      "<script type=\"text/javascript\">\n",
      "    window.onload=function(){\n",
      "    var tfrow = document.getElementById('tabfeb20212fdfb40d3acede52690f6d001').rows.length;\n",
      "    var tbRow=[];\n",
      "    for (var i=1;i<tfrow;i++) {\n",
      "        tbRow[i]=document.getElementById('tabfeb20212fdfb40d3acede52690f6d001').rows[i];\n",
      "        tbRow[i].onmouseover = function(){\n",
      "          this.style.backgroundColor = '#f3f8aa';\n",
      "        };\n",
      "        tbRow[i].onmouseout = function() {\n",
      "          this.style.backgroundColor = '#ffffff';\n",
      "        };\n",
      "    }\n",
      "};\n",
      "</script>\n",
      "\n",
      "<div style=\"text-align:center;\"><h3>Table 2: LWR Benchmark to OECD Burnup Credit [2]</h3></div>\n",
      "\n",
      "<table id=\"tabfeb20212fdfb40d3acede52690f6d001\" class=\"tftable\" border=\"1\">\n",
      "<tr><th>Nuclide</th><th>OECD [2] [w/o]</th><th>$\\sigma$ of OECD [%]</th><th>Results [w/o]</th><th>% Difference</th></tr>\n",
      "<tr><td style=\"text-align:left;\">$^{234}$U</td><td>0.0178</td><td>9.0</td><td>0.0184</td><td>+3.6</td></tr>\n",
      "<tr><td style=\"text-align:left;\">$^{235}$U</td><td>0.8001</td><td>8.1</td><td>0.7079</td><td>-11.5</td></tr>\n",
      "<tr><td style=\"text-align:left;\">$^{236}$U</td><td>0.4840</td><td>2.6</td><td>0.4781</td><td>-1.2</td></tr>\n",
      "<tr><td style=\"text-align:left;\">$^{238}$U</td><td>93.3333</td><td>0.2</td><td>93.6109</td><td>+0.3</td></tr>\n",
      "<tr><td style=\"text-align:left;\">$^{237}$Np</td><td>0.0614</td><td>9.4</td><td>0.0584</td><td>-5.0</td></tr>\n",
      "<tr><td style=\"text-align:left;\">$^{238}$Pu</td><td>0.0226</td><td>13.9</td><td>0.0185</td><td>-18.1</td></tr>\n",
      "<tr><td style=\"text-align:left;\">$^{239}$Pu</td><td>0.5991</td><td>7.1</td><td>0.5104</td><td>+14.8</td></tr>\n",
      "<tr><td style=\"text-align:left;\">$^{240}$Pu</td><td>0.2389</td><td>5.3</td><td>0.2591</td><td>+8.5</td></tr>\n",
      "<tr><td style=\"text-align:left;\">$^{241}$Pu</td><td>0.1636</td><td>6.9</td><td>0.1445</td><td>-11.7</td></tr>\n",
      "<tr><td style=\"text-align:left;\">$^{242}$Pu</td><td>0.0602</td><td>8.4</td><td>0.0563</td><td>-6.5</td></tr>\n",
      "<tr><td style=\"text-align:left;\">$^{241}$Am</td><td>0.0047</td><td>5.3</td><td>0.0032</td><td>-30.8</td></tr>\n",
      "<tr><td style=\"text-align:left;\">$^{243}$Am</td><td>0.0148</td><td>10.4</td><td>0.0116</td><td>-21.3</td></tr>\n",
      "</table>\n",
      "\n"
     ]
    },
    {
     "cell_type": "markdown",
     "metadata": {
      "slideshow": {
       "slide_type": "subslide"
      }
     },
     "source": [
      "## R1G Benchmark Notes\n",
      "\n",
      "* This benchmark compares an OECD study for a 40 MWd/kgIHM burn with no cooling."
     ]
    },
    {
     "cell_type": "markdown",
     "metadata": {
      "slideshow": {
       "slide_type": "fragment"
      }
     },
     "source": [
      "* This result shows the R1G matches the burnup credit to within two standard deviations for most actinides."
     ]
    },
    {
     "cell_type": "markdown",
     "metadata": {
      "slideshow": {
       "slide_type": "fragment"
      }
     },
     "source": [
      "* $^{241}$Am is the only nuclide showing a relatively higher departure."
     ]
    },
    {
     "cell_type": "markdown",
     "metadata": {
      "slideshow": {
       "slide_type": "fragment"
      }
     },
     "source": [
      "* This species is formed through $^{241}$Pu decay."
     ]
    },
    {
     "cell_type": "markdown",
     "metadata": {
      "slideshow": {
       "slide_type": "fragment"
      }
     },
     "source": [
      "* $^{241}$Am would thus match better if a constant flux or if zero reloading times were not assumed."
     ]
    },
    {
     "cell_type": "markdown",
     "metadata": {
      "slideshow": {
       "slide_type": "fragment"
      }
     },
     "source": [
      "* More benchmark results are available [here](http://bright-dev.github.com/libref/light_water_reactor1g.html#light-water-reactor-benchmark) and \n",
      "  [here](http://bright-dev.github.com/libref/fast_reactor1g.html#fast-reactor-benchmark)."
     ]
    },
    {
     "cell_type": "markdown",
     "metadata": {
      "slideshow": {
       "slide_type": "slide"
      }
     },
     "source": [
      "## Multigroup Reactor Model"
     ]
    },
    {
     "cell_type": "markdown",
     "metadata": {
      "slideshow": {
       "slide_type": "slide"
      }
     },
     "source": [
      "## Enrichment Model"
     ]
    },
    {
     "cell_type": "markdown",
     "metadata": {
      "slideshow": {
       "slide_type": "slide"
      }
     },
     "source": [
      "<div style=\"text-align:center;\"><h1>Fuel Cycle Sensitivity Study</h1></div>"
     ]
    },
    {
     "cell_type": "markdown",
     "metadata": {
      "slideshow": {
       "slide_type": "slide"
      }
     },
     "source": [
      "## Sensitivty Study Overview\n",
      "\n",
      "* Here, the system-wide impact of physical parameter perturbations is quantified."
     ]
    },
    {
     "cell_type": "markdown",
     "metadata": {
      "slideshow": {
       "slide_type": "fragment"
      }
     },
     "source": [
      "* This is done by looking for linear, 1D sensitivity coefficients for each parameter to the repository capacity response, measured in [PWh]."
     ]
    },
    {
     "cell_type": "markdown",
     "metadata": {
      "slideshow": {
       "slide_type": "fragment"
      }
     },
     "source": [
      "* Denote these sensitivity coefficients as $S_x$ for a small change in an input parameter $x$."
     ]
    },
    {
     "cell_type": "markdown",
     "metadata": {
      "slideshow": {
       "slide_type": "fragment"
      }
     },
     "source": [
      "* Sensitivity coefficients are presented for 10% changes in $x$ from assumed base-case values."
     ]
    },
    {
     "cell_type": "markdown",
     "metadata": {
      "slideshow": {
       "slide_type": "slide"
      }
     },
     "source": [
      "## Sensitivity Methodology Algorithm\n",
      "\n",
      "1\\. For each input parameter $x$, change its base-case value $x_0$ by $\\\\pm10\\\\%$.\n",
      "<div style=\"text-align:center;\">$x \\\\to (1 \\\\pm 0.1)x_0$</div>"
     ]
    },
    {
     "cell_type": "markdown",
     "metadata": {
      "slideshow": {
       "slide_type": "fragment"
      }
     },
     "source": [
      "2\\. If $x$ is a separation efficiency (SE), instead perturb by $\\\\pm$ \"one nine\" worth of separations.\n",
      "<div style=\"text-align:center;\">$x = 0.999 \\\\to x \\\\in \\\\{0.99, 0.9999\\\\}$</div>"
     ]
    },
    {
     "cell_type": "markdown",
     "metadata": {
      "slideshow": {
       "slide_type": "fragment"
      }
     },
     "source": [
      "3\\. Meanwhile, maintain all other parameters ($y, z, \\\\ldots$) at their base-case values.\n",
      "<div style=\"text-align:center;\">$y, z, \\\\ldots \\\\to y_0, z_0, \\\\ldots$</div>"
     ]
    },
    {
     "cell_type": "markdown",
     "metadata": {
      "slideshow": {
       "slide_type": "fragment"
      }
     },
     "source": [
      "4\\. Calculate the new repository capacity response, $R$, by the perturbed cycle and record the sensitivity as the percent change from the base-case response, $R_0$.\n",
      "<div style=\"text-align:center;\">$S_{\\\\pm x} = \\\\left(\\\\frac{R}{R_0} - 1\\\\right) \\\\times 100$</div>"
     ]
    },
    {
     "cell_type": "markdown",
     "metadata": {
      "slideshow": {
       "slide_type": "slide"
      }
     },
     "source": [
      "## Fuel Cycle\n",
      "\n",
      "The essential physics models from before were used to study a Fast Reactor, Light Water Reactor symbiotic scenario analogous to Scheme 3a of a 2006 OECD report [3]. \n",
      "\n",
      "<div style=\"text-align:center;\"><img src=\"figs/lwr_fr.svg\" width=\"70%\" /></div>"
     ]
    },
    {
     "cell_type": "markdown",
     "metadata": {
      "slideshow": {
       "slide_type": "slide"
      }
     },
     "source": [
      "## Fuel Cycle\n",
      "\n",
      "With perturbable components, over 30 independent physical parameters may be adjusted in the fuel cycle. Sensitivity results are computed from equilibrium values derived from a full treatment of the preceding, transient cycles.\n",
      "\n",
      "<div style=\"text-align:center;\"><img src=\"figs/lwr_fr_knobs.svg\" width=\"70%\" /></div>"
     ]
    },
    {
     "cell_type": "markdown",
     "metadata": {
      "slideshow": {
       "slide_type": "slide"
      }
     },
     "source": [
      "## Base Case Parameter Definition\n",
      "<script type=\"text/javascript\">\n",
      "    window.onload=function(){\n",
      "    var tfrow = document.getElementById('tabe484653e9bbc3130bc98b15dfba37f3a').rows.length;\n",
      "    var tbRow=[];\n",
      "    for (var i=1;i<tfrow;i++) {\n",
      "        tbRow[i]=document.getElementById('tabe484653e9bbc3130bc98b15dfba37f3a').rows[i];\n",
      "        tbRow[i].onmouseover = function(){\n",
      "          this.style.backgroundColor = '#f3f8aa';\n",
      "        };\n",
      "        tbRow[i].onmouseout = function() {\n",
      "          this.style.backgroundColor = '#ffffff';\n",
      "        };\n",
      "    }\n",
      "};\n",
      "</script>\n",
      "\n",
      "<table id=\"tabe484653e9bbc3130bc98b15dfba37f3a\" class=\"tftable\" border=\"1\">\n",
      "<tr><th>Input Parameter $x$</th><th>Value</th><th>Units</th></tr>\n",
      "<tr><td style=\"text-align:left;\">LWR Burnup</td><td>50.0</td><td>MWd/kgIHM</td></tr>\n",
      "<tr><td style=\"text-align:left;\">LWR Fuel to Moderator Ratio</td><td>0.301</td><td></td></tr>\n",
      "<tr><td style=\"text-align:left;\">LWR UF Storage Time</td><td>60</td><td>years</td></tr>\n",
      "<tr><td style=\"text-align:left;\">SE of U from LWR UF</td><td>0.999</td><td></td></tr>\n",
      "<tr><td style=\"text-align:left;\">SE of NP from LWR UF</td><td>0.999</td><td></td></tr>\n",
      "<tr><td style=\"text-align:left;\">SE of PU from LWR UF</td><td>0.999</td><td></td></tr>\n",
      "<tr><td style=\"text-align:left;\">SE of AM from LWR UF</td><td>0.999</td><td></td></tr>\n",
      "<tr><td style=\"text-align:left;\">SE of CM from LWR UF</td><td>0.999</td><td></td></tr>\n",
      "<tr><td style=\"text-align:left;\">SE of CS from LWR UF</td><td>0.999</td><td></td></tr>\n",
      "<tr><td style=\"text-align:left;\">SE of SR from LWR UF</td><td>0.999</td><td></td></tr>\n",
      "<tr><td style=\"text-align:left;\">FR Burnup</td><td>140.0</td><td>MWd/kgIHM</td></tr>\n",
      "<tr><td style=\"text-align:left;\">FR TRU Conversion Ratio</td><td>0.50</td><td></td></tr>\n",
      "<tr><td style=\"text-align:left;\">Max Fraction of Lanthanide in FR Fuel</td><td>0.0005</td><td>Atoms/TRU Atom</td></tr>\n",
      "<tr><td style=\"text-align:left;\">FR UF Storage Time</td><td>3</td><td>years</td></tr>\n",
      "<tr><td style=\"text-align:left;\">Storage Before Disposal</td><td>50</td><td>years</td></tr>\n",
      "</table>\n"
     ]
    },
    {
     "cell_type": "markdown",
     "metadata": {
      "slideshow": {
       "slide_type": "subslide"
      }
     },
     "source": [
      "## Base Case Parameter Definition\n",
      "<script type=\"text/javascript\">\n",
      "    window.onload=function(){\n",
      "    var tfrow = document.getElementById('tab14acb0cb88149d84baafa571580eb851').rows.length;\n",
      "    var tbRow=[];\n",
      "    for (var i=1;i<tfrow;i++) {\n",
      "        tbRow[i]=document.getElementById('tab14acb0cb88149d84baafa571580eb851').rows[i];\n",
      "        tbRow[i].onmouseover = function(){\n",
      "          this.style.backgroundColor = '#f3f8aa';\n",
      "        };\n",
      "        tbRow[i].onmouseout = function() {\n",
      "          this.style.backgroundColor = '#ffffff';\n",
      "        };\n",
      "    }\n",
      "};\n",
      "</script>\n",
      "\n",
      "<table id=\"tab14acb0cb88149d84baafa571580eb851\" class=\"tftable\" border=\"1\">\n",
      "<tr><th>Input Parameter $x$</th><th>Value</th><th>Units</th></tr>\n",
      "<tr><td style=\"text-align:left;\">SE of U from FR UF</td><td>0.999</td><td></td></tr>\n",
      "<tr><td style=\"text-align:left;\">SE of NP from FR UF</td><td>0.999</td><td></td></tr>\n",
      "<tr><td style=\"text-align:left;\">SE of PU from FR UF</td><td>0.999</td><td></td></tr>\n",
      "<tr><td style=\"text-align:left;\">SE of AM from FR UF</td><td>0.999</td><td></td></tr>\n",
      "<tr><td style=\"text-align:left;\">SE of CM from FR UF</td><td>0.999</td><td></td></tr>\n",
      "<tr><td style=\"text-align:left;\">SE of CS from FR UF</td><td>0.999</td><td></td></tr>\n",
      "<tr><td style=\"text-align:left;\">SE of SR from FR UF</td><td>0.999</td><td></td></tr>\n",
      "<tr><td style=\"text-align:left;\">Density of Host Rock</td><td>2580</td><td>kg/m$^{3}$</td></tr>\n",
      "<tr><td style=\"text-align:left;\">Specific Heat of Host Rock</td><td>840</td><td>J/kg-K</td></tr>\n",
      "<tr><td style=\"text-align:left;\">Thermal Conductivity of Host Rock</td><td>1.626</td><td>W/m-K</td></tr>\n",
      "<tr><td style=\"text-align:left;\">Heat Loss Factor During Ventilation</td><td>0.7</td><td></td></tr>\n",
      "<tr><td style=\"text-align:left;\">Drift diameter</td><td>5.5</td><td>m</td></tr>\n",
      "<tr><td style=\"text-align:left;\">Ventilation System On Time</td><td>50</td><td>years</td></tr>\n",
      "<tr><td style=\"text-align:left;\">Ambient Environment Temperature</td><td>20</td><td>C</td></tr>\n",
      "<tr><td style=\"text-align:left;\">Distance Between Drifts</td><td>81</td><td>m</td></tr>\n",
      "</table>\n"
     ]
    },
    {
     "cell_type": "markdown",
     "metadata": {
      "slideshow": {
       "slide_type": "slide"
      }
     },
     "source": [
      "## Fuel Cycle Base Case Benchmark\n",
      "\n",
      "<script type=\"text/javascript\">\n",
      "    window.onload=function(){\n",
      "    var tfrow = document.getElementById('tab06a126ba430addeecfd00ba6a5e99bb7').rows.length;\n",
      "    var tbRow=[];\n",
      "    for (var i=1;i<tfrow;i++) {\n",
      "        tbRow[i]=document.getElementById('tab06a126ba430addeecfd00ba6a5e99bb7').rows[i];\n",
      "        tbRow[i].onmouseover = function(){\n",
      "          this.style.backgroundColor = '#f3f8aa';\n",
      "        };\n",
      "        tbRow[i].onmouseout = function() {\n",
      "          this.style.backgroundColor = '#ffffff';\n",
      "        };\n",
      "    }\n",
      "};\n",
      "</script>\n",
      "\n",
      "<table id=\"tab06a126ba430addeecfd00ba6a5e99bb7\" class=\"tftable\" border=\"1\">\n",
      "<tr><th>Scheme 3a</th><th>NEA [3]</th><th>Model$^{1}$</th><th>% Diff</th><th>Model$^{2}$</th><th>% Diff</th></tr>\n",
      "<tr><td style=\"text-align:left;\">Electricity Share: LWR</td><td>0.632</td><td>0.619459</td><td>-2.0244</td><td>0.634907</td><td>+0.4579</td></tr>\n",
      "<tr><td style=\"text-align:left;\">Electricity Share: FR</td><td>0.368</td><td>0.380541</td><td>+3.2955</td><td>0.365093</td><td>-0.7962</td></tr>\n",
      "<tr><td style=\"text-align:left;\">FR UF: U</td><td>0.698</td><td>0.713806</td><td>+2.2143</td><td>0.715224</td><td>+2.4082</td></tr>\n",
      "<tr><td style=\"text-align:left;\">FR UF: NP</td><td>0.0065</td><td>0.00661961</td><td>+1.8070</td><td>0.00685174</td><td>+5.1335</td></tr>\n",
      "<tr><td style=\"text-align:left;\">FR UF: PU</td><td>0.266</td><td>0.248059</td><td>-7.2327</td><td>0.248319</td><td>-7.1204</td></tr>\n",
      "<tr><td style=\"text-align:left;\">FR UF: AM</td><td>0.02</td><td>0.0226796</td><td>11.8152</td><td>0.0217317</td><td>+7.9687</td></tr>\n",
      "<tr><td style=\"text-align:left;\">FR UF: CM</td><td>0.0098</td><td>0.00883517</td><td>-10.920</td><td>0.00787319</td><td>-24.4730</td></tr>\n",
      "<tr><td style=\"text-align:left;\">HLW: U</td><td>0.013324</td><td>0.0132681</td><td>-0.4213</td><td>0.0134448</td><td>+0.8984</td></tr>\n",
      "<tr><td style=\"text-align:left;\">HLW: NP</td><td>2.26542E-05</td><td>2.4079E-05</td><td>+5.9173</td><td>2.41083E-05</td><td>+6.0316</td></tr>\n",
      "<tr><td style=\"text-align:left;\">HLW: PU</td><td>0.000704797</td><td>0.000658893</td><td>-6.9668</td><td>0.000632361</td><td>-11.4548</td></tr>\n",
      "<tr><td style=\"text-align:left;\">HLW: AM</td><td>5.03426E-05</td><td>5.63068E-05</td><td>10.5923</td><td>5.12344E-05</td><td>+1.7405</td></tr>\n",
      "<tr><td style=\"text-align:left;\">HLW: CM</td><td>2.18151E-05</td><td>1.99031E-05</td><td>-9.6068</td><td>1.67094E-05</td><td>-30.5563</td></tr>\n",
      "<tr><td style=\"text-align:left;\">HLW: FP</td><td>0.985876</td><td>0.985973</td><td>+0.0098</td><td>0.985831</td><td>-0.0046</td></tr>\n",
      "</table>\n",
      "\n",
      "1. Model with initial LWR $^{235}$U enrichment of 4.2 w/o.\n",
      "2. Model with LWR discharge burnup of 50 MWd/kg."
     ]
    },
    {
     "cell_type": "markdown",
     "metadata": {
      "slideshow": {
       "slide_type": "slide"
      }
     },
     "source": [
      "## Fuel Cycle Dynamics (Quasi-Statics?)\n",
      "\n",
      "<div style=\"text-align:center;\"><img src=\"figs/mass_streams.svg\" /><h3>Figure 7: Input Streams to FR [kg/kgIHM]</h3></div>"
     ]
    },
    {
     "cell_type": "markdown",
     "metadata": {
      "slideshow": {
       "slide_type": "subslide"
      }
     },
     "source": [
      "## Fuel Cycle Dynamics\n",
      "\n",
      "<table class=\"boarderlesscenteredtable\" border=\"0\">\n",
      "<tr><td><img src=\"figs/fr_frac_out.svg\"/></td><td><img src=\"figs/tru_cr.svg\"/></td></tr>\n",
      "</table>\n",
      "<div style=\"text-align:center;\"><h3>Figure 8: FR Output [kg/kgd] & TRU CR</h3></div>"
     ]
    },
    {
     "cell_type": "markdown",
     "metadata": {
      "slideshow": {
       "slide_type": "subslide"
      }
     },
     "source": [
      "## Fuel Cycle Dynamics\n",
      "\n",
      "<table class=\"boarderlesscenteredtable\" border=\"0\">\n",
      "<tr><td><img src=\"figs/np237io_se.svg\"/></td><td><img src=\"figs/pu239io_se.svg\"/></td></tr>\n",
      "</table>\n",
      "<div style=\"text-align:center;\"><h3>Figure 9: $^{237}$Np, $^{239}$Pu Input and Output [kg/kgIHM]</h3></div>"
     ]
    },
    {
     "cell_type": "markdown",
     "metadata": {
      "slideshow": {
       "slide_type": "subslide"
      }
     },
     "source": [
      "## Fuel Cycle Dynamics\n",
      "\n",
      "<table class=\"boarderlesscenteredtable\" border=\"0\">\n",
      "<tr><td><img src=\"figs/am241io_se.svg\"/></td><td><img src=\"figs/cm244io_se.svg\"/></td></tr>\n",
      "</table>\n",
      "<div style=\"text-align:center;\"><h3>Figure 10: $^{241}$Am, $^{244}$Cm Input and Output [kg/kgIHM]</h3></div>"
     ]
    },
    {
     "cell_type": "markdown",
     "metadata": {
      "slideshow": {
       "slide_type": "slide"
      }
     },
     "source": [
      "## Sensitivity Results\n",
      "<script type=\"text/javascript\">\n",
      "    window.onload=function(){\n",
      "    var tfrow = document.getElementById('tab33d08ce3a210e00afbc50806aa9e553f').rows.length;\n",
      "    var tbRow=[];\n",
      "    for (var i=1;i<tfrow;i++) {\n",
      "        tbRow[i]=document.getElementById('tab33d08ce3a210e00afbc50806aa9e553f').rows[i];\n",
      "        tbRow[i].onmouseover = function(){\n",
      "          this.style.backgroundColor = '#f3f8aa';\n",
      "        };\n",
      "        tbRow[i].onmouseout = function() {\n",
      "          this.style.backgroundColor = '#ffffff';\n",
      "        };\n",
      "    }\n",
      "};\n",
      "</script>\n",
      "<div style=\"text-align:center;\"><h3>Table 3: Top Parameters from Screening Study</h3></div>\n",
      "<table id=\"tab33d08ce3a210e00afbc50806aa9e553f\" class=\"tftable\" border=\"1\">\n",
      "<tr><th>Parameter $x$</th><th>Base Case $x_0$</th><th>$S_{-x}$</th><th>$S_{+x}$</th></tr>\n",
      "<tr><td style=\"text-align:left;\"><code>FR_SE_PU</code></td><td>0.999</td><td>-83.09</td><td>+99.30</td></tr>\n",
      "<tr><td style=\"text-align:left;\"><code>LWR_SE_PU</code></td><td>0.999</td><td>-60.90</td><td>+18.28</td></tr>\n",
      "<tr><td style=\"text-align:left;\"><code>FR_SE_AM</code></td><td>0.999</td><td>-59.53</td><td>+17.55</td></tr>\n",
      "<tr><td style=\"text-align:left;\"><code>FR_SE_CM</code></td><td>0.999</td><td>-11.15</td><td>+1.28</td></tr>\n",
      "<tr><td style=\"text-align:left;\"><code>FR_TRU_CR</code></td><td>0.500</td><td>+5.22</td><td>-6.02</td></tr>\n",
      "<tr><td style=\"text-align:left;\"><code>Rock_Density</code></td><td>2580 [kg/m$^{3}$]</td><td>-5.05</td><td>+5.59</td></tr>\n",
      "<tr><td style=\"text-align:left;\"><code>Rock_Specific_Heat</code></td><td>840 [J/kg/K]</td><td>-4.90</td><td>+5.59</td></tr>\n",
      "<tr><td style=\"text-align:left;\"><code>LWR_BUd</code></td><td>50 [MWd/kg]</td><td>+5.46</td><td>-3.48</td></tr>\n",
      "<tr><td style=\"text-align:left;\"><code>FR_BUd</code></td><td>140 [MWd/kg]</td><td>-5.44</td><td>+5.32</td></tr>\n",
      "</table>"
     ]
    },
    {
     "cell_type": "markdown",
     "metadata": {
      "slideshow": {
       "slide_type": "subslide"
      }
     },
     "source": [
      "## Sensitivity Results\n",
      "\n",
      "<script type=\"text/javascript\">\n",
      "    window.onload=function(){\n",
      "    var tfrow = document.getElementById('tab34f90fbfd71002a3a43ec19f98fdc603').rows.length;\n",
      "    var tbRow=[];\n",
      "    for (var i=1;i<tfrow;i++) {\n",
      "        tbRow[i]=document.getElementById('tab34f90fbfd71002a3a43ec19f98fdc603').rows[i];\n",
      "        tbRow[i].onmouseover = function(){\n",
      "          this.style.backgroundColor = '#f3f8aa';\n",
      "        };\n",
      "        tbRow[i].onmouseout = function() {\n",
      "          this.style.backgroundColor = '#ffffff';\n",
      "        };\n",
      "    }\n",
      "};\n",
      "</script>\n",
      "<div style=\"text-align:center;\"><h3>Table 4: Bottom Parameters from Screening Study</h3></div>\n",
      "<table id=\"tab34f90fbfd71002a3a43ec19f98fdc603\" class=\"tftable\" border=\"1\">\n",
      "<tr><th>Parameter $x$</th><th>Base Case $x_0$</th><th>$S_{-x}$</th><th>$S_{+x}$</th></tr>\n",
      "<tr><td style=\"text-align:left;\"><code>LWR_SE_U</code></td><td>0.999</td><td>-0.01</td><td>+0.00</td></tr>\n",
      "<tr><td style=\"text-align:left;\"><code>FR_SE_NP</code></td><td>0.999</td><td>-0.10</td><td>+0.01</td></tr>\n",
      "<tr><td style=\"text-align:left;\"><code>FR_SE_U</code></td><td>0.999</td><td>-0.22</td><td>+0.01</td></tr>\n",
      "<tr><td style=\"text-align:left;\"><code>FR_LAN_FF_Cap</code></td><td>0.0005 [w/o]</td><td>+0.03</td><td>-0.03</td></tr>\n",
      "<tr><td style=\"text-align:left;\"><code>LWR_SE_NP</code></td><td>0.999</td><td>-0.26</td><td>+0.03</td></tr>\n",
      "<tr><td style=\"text-align:left;\"><code>LWR_SNF_Storage_Time</code></td><td>6 [y]</td><td>+0.06</td><td>-0.14</td></tr>\n",
      "<tr><td style=\"text-align:left;\"><code>LWR_SE_CM</code></td><td>0.999</td><td>-0.82</td><td>+0.08</td></tr>\n",
      "<tr><td style=\"text-align:left;\"><code>Vent_System_On_Time</code></td><td>50 [y]</td><td>-0.11</td><td>+1.13</td></tr>\n",
      "<tr><td style=\"text-align:left;\"><code>Drift_Diameter</code></td><td>5.5 [m]</td><td>+0.26</td><td>+0.58</td></tr>\n",
      "</table>"
     ]
    },
    {
     "cell_type": "markdown",
     "metadata": {
      "slideshow": {
       "slide_type": "subslide"
      }
     },
     "source": [
      "## Counterintuitive Results\n",
      "\n",
      "* For drift diameter, both $S_{-x}$ and $S_{+x}$ are positive!\n",
      "    * This arises from the assumption that the drift diameter very small as compared to the spacing between drifts.\n",
      "* Since the base-case sits near a local drift diameter minimum, linear sensitivities will never capture the full effect on the response."
     ]
    },
    {
     "cell_type": "markdown",
     "metadata": {
      "slideshow": {
       "slide_type": "fragment"
      }
     },
     "source": [
      "* Additionally egregious is that, with increasing LWR burnup, the repository capacity goes down!\n",
      "    * This due to the overall TRU production *per unit energy produced from the LWRs* declining."
     ]
    },
    {
     "cell_type": "markdown",
     "metadata": {
      "slideshow": {
       "slide_type": "subslide"
      }
     },
     "source": [
      "## LWR Burnup Sensitivity\n",
      "<div style=\"text-align:center;\"><img src=\"figs/lwr_bud_sensitivity_repcap.svg\" width=\"80%\" /></div>"
     ]
    },
    {
     "cell_type": "markdown",
     "metadata": {
      "slideshow": {
       "slide_type": "slide"
      }
     },
     "source": [
      "<div style=\"text-align:center;\"><h1>Information Theoretic Analysis</h1></div>"
     ]
    },
    {
     "cell_type": "markdown",
     "metadata": {
      "slideshow": {
       "slide_type": "slide"
      }
     },
     "source": [
      "## Entropy Based Methodology\n",
      "\n",
      "* Here again, the system-wide impact of physical parameter perturbations is quantified."
     ]
    },
    {
     "cell_type": "markdown",
     "metadata": {
      "slideshow": {
       "slide_type": "fragment"
      }
     },
     "source": [
      "* This is done by performing **Contingency Table** analysis for each parameter to the *repository capacity* response."
     ]
    },
    {
     "cell_type": "markdown",
     "metadata": {
      "slideshow": {
       "slide_type": "fragment"
      }
     },
     "source": [
      "* Denote fuel cycle responses as $R$ [GWh] for $x$ & $y$ input parameters."
     ]
    },
    {
     "cell_type": "markdown",
     "metadata": {
      "slideshow": {
       "slide_type": "fragment"
      }
     },
     "source": [
      "* **Goal:** Determine strength of association between inputs and pairs of inputs to the response in a manner that is independent of:\n",
      "    * the functional form of the response to the input $R(x)$,\n",
      "    * and any base-case set of initial inputs."
     ]
    },
    {
     "cell_type": "markdown",
     "metadata": {
      "slideshow": {
       "slide_type": "slide"
      }
     },
     "source": [
      "## Entropy Based Methodology\n",
      "<div style=\"text-align:center;\"><img src=\"figs/monte_carlo_meth.svg\" width=\"45%\" /></div>"
     ]
    },
    {
     "cell_type": "markdown",
     "metadata": {
      "slideshow": {
       "slide_type": "slide"
      }
     },
     "source": [
      "## Input Parameter Definition\n",
      "<script type=\"text/javascript\">\n",
      "    window.onload=function(){\n",
      "    var tfrow = document.getElementById('tabbff371b3eef0cbef5050ed9f0903079e').rows.length;\n",
      "    var tbRow=[];\n",
      "    for (var i=1;i<tfrow;i++) {\n",
      "        tbRow[i]=document.getElementById('tabbff371b3eef0cbef5050ed9f0903079e').rows[i];\n",
      "        tbRow[i].onmouseover = function(){\n",
      "          this.style.backgroundColor = '#f3f8aa';\n",
      "        };\n",
      "        tbRow[i].onmouseout = function() {\n",
      "          this.style.backgroundColor = '#ffffff';\n",
      "        };\n",
      "    }\n",
      "};\n",
      "</script>\n",
      "\n",
      "<table id=\"tabbff371b3eef0cbef5050ed9f0903079e\" class=\"tftable\" border=\"1\">\n",
      "<tr><th>Input Parameter $x$</th><th>Min</th><th>Max</th><th>Units</th><th>Sample Type</th></tr>\n",
      "<tr><td style=\"text-align:left;\">LWR Burnup Level</td><td>30.0</td><td>80.0</td><td>MWd/kgIHM</td><td>linear</td></tr>\n",
      "<tr><td style=\"text-align:left;\">LWR Fuel to Moderator Ratio</td><td>0.28</td><td>0.36</td><td></td><td>linear</td></tr>\n",
      "<tr><td style=\"text-align:left;\">LWR SNF Storage Time</td><td>3</td><td>30</td><td>years</td><td>linear</td></tr>\n",
      "<tr><td style=\"text-align:left;\">SE of U from LWR UF</td><td>0.99</td><td>0.9999</td><td></td><td>nines</td></tr>\n",
      "<tr><td style=\"text-align:left;\">SE of NP from LWR UF</td><td>0.9</td><td>0.9999</td><td></td><td>nines</td></tr>\n",
      "<tr><td style=\"text-align:left;\">SE of PU from LWR UF</td><td>0.9</td><td>0.9999</td><td></td><td>nines</td></tr>\n",
      "<tr><td style=\"text-align:left;\">SE of AM from LWR UF</td><td>0.9</td><td>0.9999</td><td></td><td>nines</td></tr>\n",
      "<tr><td style=\"text-align:left;\">SE of CM from LWR UF</td><td>0.9</td><td>0.9999</td><td></td><td>nines</td></tr>\n",
      "<tr><td style=\"text-align:left;\">SE of CS from LWR UF</td><td>0.9</td><td>0.9999</td><td></td><td>nines</td></tr>\n",
      "<tr><td style=\"text-align:left;\">SE of SR from LWR UF</td><td>0.9</td><td>0.9999</td><td></td><td>nines</td></tr>\n",
      "<tr><td style=\"text-align:left;\">FR Burnup Level</td><td>100.0</td><td>200.0</td><td>MWd/kgIHM</td><td>linear</td></tr>\n",
      "<tr><td style=\"text-align:left;\">FR TRU Conversion Ratio</td><td>0.25</td><td>0.95</td><td></td><td>linear</td></tr>\n",
      "<tr><td style=\"text-align:left;\">Max Fraction of Lanthanide in FR Fuel</td><td>0.0001</td><td>0.005</td><td>Atoms/TRU Atom</td><td>linear</td></tr>\n",
      "<tr><td style=\"text-align:left;\">FR UF Storage Time</td><td>3</td><td>30</td><td>years</td><td>linear</td></tr>\n",
      "<tr><td style=\"text-align:left;\">Storage Before Disposal</td><td>1</td><td>300</td><td>years</td><td>log</td></tr>\n",
      "</table>\n"
     ]
    },
    {
     "cell_type": "markdown",
     "metadata": {
      "slideshow": {
       "slide_type": "subslide"
      }
     },
     "source": [
      "## Input Parameter Definition\n",
      "<script type=\"text/javascript\">\n",
      "    window.onload=function(){\n",
      "    var tfrow = document.getElementById('tab259d9367bb5bb3971342e592c5281d57').rows.length;\n",
      "    var tbRow=[];\n",
      "    for (var i=1;i<tfrow;i++) {\n",
      "        tbRow[i]=document.getElementById('tab259d9367bb5bb3971342e592c5281d57').rows[i];\n",
      "        tbRow[i].onmouseover = function(){\n",
      "          this.style.backgroundColor = '#f3f8aa';\n",
      "        };\n",
      "        tbRow[i].onmouseout = function() {\n",
      "          this.style.backgroundColor = '#ffffff';\n",
      "        };\n",
      "    }\n",
      "};\n",
      "</script>\n",
      "\n",
      "<table id=\"tab259d9367bb5bb3971342e592c5281d57\" class=\"tftable\" border=\"1\">\n",
      "<tr><th>Input Parameter $x$</th><th>Min</th><th>Max</th><th>Units</th><th>Sample Type</th></tr>\n",
      "<tr><td style=\"text-align:left;\">SE of U from FR UF</td><td>0.99</td><td>0.9999</td><td></td><td>nines</td></tr>\n",
      "<tr><td style=\"text-align:left;\">SE of NP from FR UF</td><td>0.9</td><td>0.9999</td><td></td><td>nines</td></tr>\n",
      "<tr><td style=\"text-align:left;\">SE of PU from FR UF</td><td>0.9</td><td>0.9999</td><td></td><td>nines</td></tr>\n",
      "<tr><td style=\"text-align:left;\">SE of AM from FR UF</td><td>0.9</td><td>0.9999</td><td></td><td>nines</td></tr>\n",
      "<tr><td style=\"text-align:left;\">SE of CM from FR UF</td><td>0.9</td><td>0.9999</td><td></td><td>nines</td></tr>\n",
      "<tr><td style=\"text-align:left;\">SE of CS from FR UF</td><td>0.9</td><td>0.9999</td><td></td><td>nines</td></tr>\n",
      "<tr><td style=\"text-align:left;\">SE of SR from FR UF</td><td>0.9</td><td>0.9999</td><td></td><td>nines</td></tr>\n",
      "<tr><td style=\"text-align:left;\">Density of Host Rock</td><td>2317</td><td>2869</td><td>kg/m$^{3}$</td><td>linear</td></tr>\n",
      "<tr><td style=\"text-align:left;\">Specific Heat of Host Rock</td><td>590</td><td>1270</td><td>J/kg-K</td><td>linear</td></tr>\n",
      "<tr><td style=\"text-align:left;\">Thermal Conductivity of Host Rock</td><td>1.9204</td><td>3.2856</td><td>W/m-K</td><td>linear</td></tr>\n",
      "<tr><td style=\"text-align:left;\">Heat Loss Factor During Ventilation</td><td>0.806</td><td>0.914</td><td></td><td>linear</td></tr>\n",
      "<tr><td style=\"text-align:left;\">Drift diameter</td><td>4.5</td><td>6.5</td><td>m</td><td>linear</td></tr>\n",
      "<tr><td style=\"text-align:left;\">Ventilation System On Time</td><td>10</td><td>300</td><td>years</td><td>log</td></tr>\n",
      "<tr><td style=\"text-align:left;\">Ambient Environment Temperature</td><td>12.82</td><td>32.82</td><td>C</td><td>linear</td></tr>\n",
      "<tr><td style=\"text-align:left;\">Distance Between Drifts</td><td>56</td><td>106</td><td>m</td><td>linear</td></tr>\n",
      "</table>\n"
     ]
    },
    {
     "cell_type": "markdown",
     "metadata": {
      "slideshow": {
       "slide_type": "slide"
      }
     },
     "source": [
      "## Entropy Based Methodology\n",
      "\n",
      "* Before attempting to comprehend the subtleties of a 30+ dimensional surface, prudence demands a check to see if all 30 variables are *really* needed..."
     ]
    },
    {
     "cell_type": "markdown",
     "metadata": {
      "slideshow": {
       "slide_type": "fragment"
      }
     },
     "source": [
      "* (Hint: probably not!)"
     ]
    },
    {
     "cell_type": "markdown",
     "metadata": {
      "slideshow": {
       "slide_type": "fragment"
      }
     },
     "source": [
      "* Thus a quantitative ranking of the *associations* of each input parameter to the response is desired."
     ]
    },
    {
     "cell_type": "markdown",
     "metadata": {
      "slideshow": {
       "slide_type": "fragment"
      }
     },
     "source": [
      "* (Note that these associations do not imply a linear response!)"
     ]
    },
    {
     "cell_type": "markdown",
     "metadata": {
      "slideshow": {
       "slide_type": "fragment"
      }
     },
     "source": [
      "* These rankings are obtained by borrowing an analysis tool that is often used in Biology: _Contingency Tables_."
     ]
    },
    {
     "cell_type": "markdown",
     "metadata": {
      "slideshow": {
       "slide_type": "slide"
      }
     },
     "source": [
      "## Contingency Tables\n",
      "The $2\\\\times 2$ table is most common:\n",
      "<script type=\"text/javascript\">\n",
      "    window.onload=function(){\n",
      "    var tfrow = document.getElementById('tabe8436325e0563ac25523148e69d2087e').rows.length;\n",
      "    var tbRow=[];\n",
      "    for (var i=1;i<tfrow;i++) {\n",
      "        tbRow[i]=document.getElementById('tabe8436325e0563ac25523148e69d2087e').rows[i];\n",
      "        tbRow[i].onmouseover = function(){\n",
      "          this.style.backgroundColor = '#f3f8aa';\n",
      "        };\n",
      "        tbRow[i].onmouseout = function() {\n",
      "          this.style.backgroundColor = '#ffffff';\n",
      "        };\n",
      "    }\n",
      "};\n",
      "</script>\n",
      "\n",
      "<table id=\"tabe8436325e0563ac25523148e69d2087e\" class=\"tftable\" border=\"1\">\n",
      "<tr><th></th><th>Blonde</th><th>Brunette</th><th>Totals</th></tr>\n",
      "<tr><td style=\"text-align:left;\"><b>Female</b></td><td>18</td><td>17</td><td>35</td></tr>\n",
      "<tr><td style=\"text-align:left;\"><b>Male</b></td><td>11</td><td>14</td><td>25</td></tr>\n",
      "<tr><td style=\"text-align:left;\"><b>Totals</b></td><td>29</td><td>31</td><td>60</td></tr>\n",
      "</table>"
     ]
    },
    {
     "cell_type": "markdown",
     "metadata": {
      "slideshow": {
       "slide_type": "fragment"
      }
     },
     "source": [
      "But doesn't this approach ignore the underlying biology?"
     ]
    },
    {
     "cell_type": "markdown",
     "metadata": {
      "slideshow": {
       "slide_type": "fragment"
      }
     },
     "source": [
      "<div style=\"text-align:right;\"><h2>Yes!</h2></div>"
     ]
    },
    {
     "cell_type": "markdown",
     "metadata": {
      "slideshow": {
       "slide_type": "slide"
      }
     },
     "source": [
      "## Contingency Tables\n",
      "<div style=\"text-align:center;\"><img src=\"figs/CTBlackBox/CTBlackBox01.png\" width=\"70%\" /></div>"
     ]
    },
    {
     "cell_type": "markdown",
     "metadata": {
      "slideshow": {
       "slide_type": "subslide"
      }
     },
     "source": [
      "## Contingency Tables\n",
      "<div style=\"text-align:center;\"><img src=\"figs/CTBlackBox/CTBlackBox02.png\" width=\"70%\" /></div>"
     ]
    },
    {
     "cell_type": "markdown",
     "metadata": {
      "slideshow": {
       "slide_type": "subslide"
      }
     },
     "source": [
      "## Contingency Tables\n",
      "<div style=\"text-align:center;\"><img src=\"figs/CTBlackBox/CTBlackBox03.png\" width=\"70%\" /></div>"
     ]
    },
    {
     "cell_type": "markdown",
     "metadata": {
      "slideshow": {
       "slide_type": "subslide"
      }
     },
     "source": [
      "## Contingency Tables\n",
      "<div style=\"text-align:center;\"><img src=\"figs/CTBlackBox/CTBlackBox04.png\" width=\"70%\" /></div>"
     ]
    },
    {
     "cell_type": "markdown",
     "metadata": {
      "slideshow": {
       "slide_type": "subslide"
      }
     },
     "source": [
      "## Contingency Tables\n",
      "<div style=\"text-align:center;\"><img src=\"figs/CTBlackBox/CTBlackBox05.png\" width=\"70%\" /></div>"
     ]
    },
    {
     "cell_type": "markdown",
     "metadata": {
      "slideshow": {
       "slide_type": "subslide"
      }
     },
     "source": [
      "## Contingency Tables\n",
      "<div style=\"text-align:center;\"><img src=\"figs/CTBlackBox/CTBlackBox06.png\" width=\"70%\" /></div>"
     ]
    },
    {
     "cell_type": "markdown",
     "metadata": {
      "slideshow": {
       "slide_type": "slide"
      }
     },
     "source": [
      "## Fuel Cycle Contingency Tables\n",
      "\n",
      "For example, let's construct a 2D contingency table that measures the response from a sample input: fast reactor fuel plutonium separation efficiency, <code>FR_SE_PU</code>.\n",
      "\n",
      "<script type=\"text/javascript\">\n",
      "    window.onload=function(){\n",
      "    var tfrow = document.getElementById('tabaa0f8495ac586524fca408c7e77721cd').rows.length;\n",
      "    var tbRow=[];\n",
      "    for (var i=1;i<tfrow;i++) {\n",
      "        tbRow[i]=document.getElementById('tabaa0f8495ac586524fca408c7e77721cd').rows[i];\n",
      "        tbRow[i].onmouseover = function(){\n",
      "          this.style.backgroundColor = '#f3f8aa';\n",
      "        };\n",
      "        tbRow[i].onmouseout = function() {\n",
      "          this.style.backgroundColor = '#ffffff';\n",
      "        };\n",
      "    }\n",
      "};\n",
      "</script>\n",
      "\n",
      "<table id=\"tabaa0f8495ac586524fca408c7e77721cd\" class=\"tftable\" border=\"1\" style=\"width:90%;\">\n",
      "<tr><th style=\"text-align:center;\"></td><th style=\"text-align:center;\">$0.9<$<code>SE</code>$<0.99$</td><th style=\"text-align:center;\">$0.99<$<code>SE</code>$<0.999$</td><th style=\"text-align:center;\">$0.999<$<code>SE</code>$<0.9999$</td><th style=\"text-align:center;\"></td></tr>\n",
      "<tr><td>$10^4 <$ <code>Capacity</code> $< 10^5$</td><td>$739$</td><td>$43$</td><td>$27$</td><td>$809$</td></tr>\n",
      "<tr><td>$10^5 <$ <code>Capacity</code> $< 10^6$</td><td>$31510$</td><td>$21611$</td><td>$19469$</td><td>$72590$</td></tr>\n",
      "<tr><td>$10^6 <$ <code>Capacity</code> $< 10^7$</td><td>$2648$</td><td>$13095$</td><td>$14430$</td><td>$30173$</td></tr>\n",
      "<tr><td>$10^7 <$ <code>Capacity</code> $< 10^8$</td><td>$0$</td><td>$213$</td><td>$1053$</td><td>$1266$</td></tr>\n",
      "<tr><td></td><td>$34897$</td><td>$34962$</td><td>$34979$</td><td>$104838$</td></tr>\n",
      "</table>"
     ]
    },
    {
     "cell_type": "markdown",
     "metadata": {
      "slideshow": {
       "slide_type": "slide"
      }
     },
     "source": [
      "## Contingency Table Statistics\n",
      "\n",
      "There are several metrics that have been developed to measure associations with contingency tables."
     ]
    },
    {
     "cell_type": "markdown",
     "metadata": {
      "slideshow": {
       "slide_type": "fragment"
      }
     },
     "source": [
      "The primary measure here is the Uncertainty Coefficient $U(x|R)$."
     ]
    },
    {
     "cell_type": "markdown",
     "metadata": {
      "slideshow": {
       "slide_type": "fragment"
      }
     },
     "source": [
      "To calculate $U(x|R)$ the following are needed:"
     ]
    },
    {
     "cell_type": "markdown",
     "metadata": {
      "slideshow": {
       "slide_type": "fragment"
      }
     },
     "source": [
      "* The Entropy $H(x)$, which is a measure of how evenly the data is spread out in the $x$ parameter."
     ]
    },
    {
     "cell_type": "markdown",
     "metadata": {
      "slideshow": {
       "slide_type": "fragment"
      }
     },
     "source": [
      "* The Mutual Information $I(R,x)$ which states the shared value of the $x$ together with $R$."
     ]
    },
    {
     "cell_type": "markdown",
     "metadata": {
      "slideshow": {
       "slide_type": "slide"
      }
     },
     "source": [
      "## Contingency Table Statistics\n",
      "\n",
      "Denote the entries in a contingency table as $N_{ij}$ for the $i$-th response bin and the $j$-th input bin."
     ]
    },
    {
     "cell_type": "markdown",
     "metadata": {
      "slideshow": {
       "slide_type": "fragment"
      }
     },
     "source": [
      "The probability of landing in a given bin is therefore,\n",
      "<div style=\"text-align:center;\">$p_{ij} = \\\\frac{N_{ij}}{N}$</div>"
     ]
    },
    {
     "cell_type": "markdown",
     "metadata": {
      "slideshow": {
       "slide_type": "fragment"
      }
     },
     "source": [
      "Thus the entropy is calculated from,\n",
      "<div style=\"text-align:center;\">$H(x) = - \\\\sum_j^J p_{\\\\cdot j} \\\\ln(p_{\\\\cdot j})$</div>"
     ]
    },
    {
     "cell_type": "markdown",
     "metadata": {
      "slideshow": {
       "slide_type": "fragment"
      }
     },
     "source": [
      "The mutual information is found via,\n",
      "<div style=\"text-align:center;\">$I(R,x) = - \\\\sum_{i,j}^{I,J} p_{ij} \\\\ln\\\\left(\\\\frac{p_{ij}}{p_{i\\\\cdot}\\\\cdot p_{\\\\cdot j}}\\\\right)$</div>"
     ]
    },
    {
     "cell_type": "markdown",
     "metadata": {
      "slideshow": {
       "slide_type": "slide"
      }
     },
     "source": [
      "## Visual Relationship\n",
      "\n",
      "<div style=\"text-align:center;\"><img src=\"figs/entropy-relation-diagram.svg\" /><h3>Figure 11: Entropy Relations [4]</h3></div>"
     ]
    },
    {
     "cell_type": "markdown",
     "metadata": {
      "slideshow": {
       "slide_type": "slide"
      }
     },
     "source": [
      "## Contingency Table Statistics\n",
      "\n",
      "The uncertainty coefficient is then calculated from,\n",
      "<div style=\"text-align:center;\">$U(x|R) = \\\\frac{I(R,x)}{H(x)}$</div>"
     ]
    },
    {
     "cell_type": "markdown",
     "metadata": {
      "slideshow": {
       "slide_type": "fragment"
      }
     },
     "source": [
      "This metric has the following useful properties:\n",
      "    \n",
      "1. Defined on the range $[0, 1]$.\n",
      "2. $U(x|R) = 0$ implies that $I(R,x) = 0$, which indicates that the parameter is unassociated with the response.\n",
      "3. $U(x|R) = 1$ requires that $I(R,x) = H(x)$.  This implies that the system response $R(x)$ is solely determined by $x$."
     ]
    },
    {
     "cell_type": "markdown",
     "metadata": {
      "slideshow": {
       "slide_type": "slide"
      }
     },
     "source": [
      "## Input Parameters Ranked by $U(x|R)$\n",
      "\n",
      "<script type=\"text/javascript\">\n",
      "    window.onload=function(){\n",
      "    var tfrow = document.getElementById('tab9935675cb346eea5cfc5e7b82a065ee9').rows.length;\n",
      "    var tbRow=[];\n",
      "    for (var i=1;i<tfrow;i++) {\n",
      "        tbRow[i]=document.getElementById('tab9935675cb346eea5cfc5e7b82a065ee9').rows[i];\n",
      "        tbRow[i].onmouseover = function(){\n",
      "          this.style.backgroundColor = '#f3f8aa';\n",
      "        };\n",
      "        tbRow[i].onmouseout = function() {\n",
      "          this.style.backgroundColor = '#ffffff';\n",
      "        };\n",
      "    }\n",
      "};\n",
      "</script>\n",
      "\n",
      "<table id=\"tab9935675cb346eea5cfc5e7b82a065ee9\" class=\"tftable\" border=\"1\">\n",
      "<tr><th>Rank</th><th>$x$</th><th>$U(x|R)$</th></tr>\n",
      "<tr><td style=\"text-align:right;\">1</td><td style=\"text-align:left;\"><code>FR_SE_PU</code></td><td>0.07667</td></tr>\n",
      "<tr><td style=\"text-align:right;\">2</td><td style=\"text-align:left;\"><code>HLW_Storage_Time</code></td><td>0.05264</td></tr>\n",
      "<tr><td style=\"text-align:right;\">3</td><td style=\"text-align:left;\"><code>FR_SE_AM</code></td><td>0.04148</td></tr>\n",
      "<tr><td style=\"text-align:right;\">4</td><td style=\"text-align:left;\"><code>Heat_Loss_Factor</code></td><td>0.01548</td></tr>\n",
      "<tr><td style=\"text-align:right;\">5</td><td style=\"text-align:left;\"><code>LWR_SE_PU</code></td><td>0.01343</td></tr>\n",
      "<tr><td style=\"text-align:right;\">6</td><td style=\"text-align:left;\"><code>FR_TRU_CR</code></td><td>0.008895</td></tr>\n",
      "<tr><td style=\"text-align:right;\">7</td><td style=\"text-align:left;\"><code>LWR_SE_AM</code></td><td>0.007304</td></tr>\n",
      "<tr><td style=\"text-align:right;\">8</td><td style=\"text-align:left;\"><code>FR_BUd</code></td><td>0.003773</td></tr>\n",
      "<tr><td style=\"text-align:right;\">9</td><td style=\"text-align:left;\"><code>LWR_UF_Storage_Time</code></td><td>0.003551</td></tr>\n",
      "<tr><td style=\"text-align:right;\">10</td><td style=\"text-align:left;\"><code>Rock_Specific_Heat</code></td><td>0.003085</td></tr>\n",
      "<tr><td style=\"text-align:right;\">11</td><td style=\"text-align:left;\"><code>FR_SE_CM</code></td><td>0.002522</td></tr>\n",
      "<tr><td style=\"text-align:right;\">12</td><td style=\"text-align:left;\"><code>Rock_Thermal_Conductivity</code></td><td>0.001954</td></tr>\n",
      "<tr><td style=\"text-align:right;\">13</td><td style=\"text-align:left;\"><code>Ambient_Temp</code></td><td>0.001353</td></tr>\n",
      "<tr><td style=\"text-align:right;\">14</td><td style=\"text-align:left;\"><code>LWR_BUd</code></td><td>0.001053</td></tr>\n",
      "<tr><td style=\"text-align:right;\">15</td><td style=\"text-align:left;\"><code>LWR_SE_CS</code></td><td>0.001033</td></tr>\n",
      "</table>"
     ]
    },
    {
     "cell_type": "markdown",
     "metadata": {
      "slideshow": {
       "slide_type": "subslide"
      }
     },
     "source": [
      "## Input Parameters Ranked by $U(x|R)$\n",
      "\n",
      "<script type=\"text/javascript\">\n",
      "    window.onload=function(){\n",
      "    var tfrow = document.getElementById('tab826b6c480f1da23640223f5fc61eae36').rows.length;\n",
      "    var tbRow=[];\n",
      "    for (var i=1;i<tfrow;i++) {\n",
      "        tbRow[i]=document.getElementById('tab826b6c480f1da23640223f5fc61eae36').rows[i];\n",
      "        tbRow[i].onmouseover = function(){\n",
      "          this.style.backgroundColor = '#f3f8aa';\n",
      "        };\n",
      "        tbRow[i].onmouseout = function() {\n",
      "          this.style.backgroundColor = '#ffffff';\n",
      "        };\n",
      "    }\n",
      "};\n",
      "</script>\n",
      "\n",
      "<table id=\"tab826b6c480f1da23640223f5fc61eae36\" class=\"tftable\" border=\"1\">\n",
      "<tr><th>Rank</th><th>$x$</th><th>$U(x|R)$</th></tr>\n",
      "<tr><td style=\"text-align:right;\">16</td><td style=\"text-align:left;\"><code>LWR_SE_SR</code></td><td>0.001024</td></tr>\n",
      "<tr><td style=\"text-align:right;\">17</td><td style=\"text-align:left;\"><code>FR_UF_Storage_Time</code></td><td>0.0005559</td></tr>\n",
      "<tr><td style=\"text-align:right;\">18</td><td style=\"text-align:left;\"><code>Drift_Space</code></td><td>0.0004421</td></tr>\n",
      "<tr><td style=\"text-align:right;\">19</td><td style=\"text-align:left;\"><code>LWR_SE_U</code></td><td>0.0002899</td></tr>\n",
      "<tr><td style=\"text-align:right;\">20</td><td style=\"text-align:left;\"><code>Rock_Density</code></td><td>0.0002718</td></tr>\n",
      "<tr><td style=\"text-align:right;\">21</td><td style=\"text-align:left;\"><code>FR_SE_CS</code></td><td>0.0001331</td></tr>\n",
      "<tr><td style=\"text-align:right;\">22</td><td style=\"text-align:left;\"><code>FR_SE_SR</code></td><td>0.0001073</td></tr>\n",
      "<tr><td style=\"text-align:right;\">23</td><td style=\"text-align:left;\"><code>Vent_System_On_Time</code></td><td>0.0001016</td></tr>\n",
      "<tr><td style=\"text-align:right;\">24</td><td style=\"text-align:left;\"><code>Drift_Diameter</code></td><td>9.648E-05</td></tr>\n",
      "<tr><td style=\"text-align:right;\">25</td><td style=\"text-align:left;\"><code>LWR_SE_NP</code></td><td>9.575E-05</td></tr>\n",
      "<tr><td style=\"text-align:right;\">26</td><td style=\"text-align:left;\"><code>LWR_SE_CM</code></td><td>7.969E-05</td></tr>\n",
      "<tr><td style=\"text-align:right;\">27</td><td style=\"text-align:left;\"><code>LWR_Fuel2Mod</code></td><td>7.833E-05</td></tr>\n",
      "<tr><td style=\"text-align:right;\">28</td><td style=\"text-align:left;\"><code>FR_LAN_FF_Cap</code></td><td>6.559E-05</td></tr>\n",
      "<tr><td style=\"text-align:right;\">29</td><td style=\"text-align:left;\"><code>FR_SE_NP</code></td><td>6.212E-05</td></tr>\n",
      "<tr><td style=\"text-align:right;\">30</td><td style=\"text-align:left;\"><code>FR_SE_U</code></td><td>6.207E-05</td></tr>\n",
      "</table>\n"
     ]
    },
    {
     "cell_type": "markdown",
     "metadata": {
      "slideshow": {
       "slide_type": "slide"
      }
     },
     "source": [
      "## References\n",
      "\n",
      "1. Anthony M. Scopatz and Erich a. Schneider. \u201cA new method for rapid computation of transient fuel cycle material balances\u201d. In: Nuclear Engineering and Design 239.10 (Oct. 2009), pp. 2169\u20132184. ISSN: 00295493. DOI: 10.1016/j.nucengdes.2009.02.022. URL: http://linkinghub.elsevier.com/retrieve/pii/S0029549309000922\n",
      "2. M Takano. Burnup Credit Criticality Benchmark - Result of Phase 1A - NEA/NSC/DOC(93)22. Tech. rep. January. Nuclear Energy Agency, 1994, pp. 1\u2013147\n",
      "3. OECD. Advanced Nuclear Fuel Cycles and Radioactive Waste Management - NEA-5990. Tech. rep. Nuclear Energy Agency, 2006, pp. 1\u2013248\n",
      "4. http://en.wikipedia.org/wiki/File:Entropy-mutual-information-relative-entropy-relation-diagram.svg"
     ]
    },
    {
     "cell_type": "code",
     "collapsed": false,
     "input": [
      "!make"
     ],
     "language": "python",
     "metadata": {
      "slideshow": {
       "slide_type": "skip"
      }
     },
     "outputs": [
      {
       "output_type": "stream",
       "stream": "stdout",
       "text": [
        "cp -r ~/nbconvert/reveal . \r\n",
        "rm -rf reveal/.git* \r\n",
        "mkdir -p js \r\n",
        "cp ~/nbconvert/js/mathjax-onload.js js\r\n",
        "cp classy.css reveal/css/theme/ \r\n",
        "python ~/nbconvert/nbconvert.py -f reveal fc-entropy-talk.ipynb \r\n"
       ]
      },
      {
       "output_type": "stream",
       "stream": "stdout",
       "text": [
        "sed -i 's:reveal/css/theme/simple.css:reveal/css/theme/classy.css:' fc-entropy-talk_slides.html \r\n",
        "sed -i 's:class=\"fragment\" class=\"text_cell_render:class=\"fragment text_cell_render:' fc-entropy-talk_slides.html \r\n",
        "sed -i 's/.rendered_html ul{list-style:disc;margin:1em 2em;}/.rendered_html ul{list-style:disc;margin:0em 2em;}/' fc-entropy-talk_slides.html \r\n"
       ]
      }
     ],
     "prompt_number": 43
    },
    {
     "cell_type": "code",
     "collapsed": false,
     "input": [],
     "language": "python",
     "metadata": {},
     "outputs": []
    }
   ],
   "metadata": {}
  }
 ]
}